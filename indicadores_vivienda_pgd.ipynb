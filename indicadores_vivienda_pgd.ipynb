{
 "cells": [
  {
   "cell_type": "code",
   "id": "initial_id",
   "metadata": {
    "collapsed": true,
    "ExecuteTime": {
     "end_time": "2025-01-08T22:54:40.445370Z",
     "start_time": "2025-01-08T22:54:40.380950Z"
    }
   },
   "source": [
    "##Estimación de rezago habitacional\n",
    "\n",
    "#Se borra todo lo que se encuentra en el entorno\n",
    "\n",
    "rm(list=ls())\n",
    "\n",
    "# Librerías ====\n",
    "if(!require('pacman')) install.packages('pacman')\n",
    "pacman::p_load(tidyverse, showtext, srvyr)"
   ],
   "outputs": [],
   "execution_count": 4
  },
  {
   "metadata": {
    "ExecuteTime": {
     "end_time": "2025-01-08T22:54:40.475294Z",
     "start_time": "2025-01-08T22:54:40.454248Z"
    }
   },
   "cell_type": "code",
   "source": [
    "#Crear directorio para guardar los archivos\n",
    "dir.create(\"data\", showWarnings = FALSE)"
   ],
   "id": "9aa368e34821e8e1",
   "outputs": [],
   "execution_count": 5
  },
  {
   "metadata": {
    "ExecuteTime": {
     "end_time": "2025-01-08T22:54:40.520031Z",
     "start_time": "2025-01-08T22:54:40.501230Z"
    }
   },
   "cell_type": "code",
   "source": [
    "url_basica<-\"https://www.inegi.org.mx/contenidos/programas/enigh/nc/\"\n",
    "segunda_parte<-\"microdatos/enigh\"\n",
    "fin<-\"_ns_viviendas_csv.zip\""
   ],
   "id": "f20f9e705a143bce",
   "outputs": [],
   "execution_count": 6
  },
  {
   "metadata": {
    "ExecuteTime": {
     "end_time": "2025-01-08T22:54:40.758204Z",
     "start_time": "2025-01-08T22:54:40.536896Z"
    }
   },
   "cell_type": "code",
   "source": "years<-c(\"2016\", \"2018\", \"2020\", \"2022\")",
   "id": "2a2a7cd7419394ac",
   "outputs": [],
   "execution_count": 7
  },
  {
   "metadata": {
    "ExecuteTime": {
     "end_time": "2025-01-08T23:26:18.774971Z",
     "start_time": "2025-01-08T23:26:07.226769Z"
    }
   },
   "cell_type": "code",
   "source": [
    "# Descargar los archivos, descomprimirlos y renombrarlos\n",
    "for (i in 1:length(years)) {\n",
    "  url <- paste0(url_basica, years[i], \"/\", segunda_parte, years[i], fin)\n",
    "  destfile <- paste0(\"data/\", years[i], fin)\n",
    "  \n",
    "  # Descargar el archivo\n",
    "  download.file(url, destfile = destfile)\n",
    "  \n",
    "  # Descomprimir el archivo\n",
    "  unzip(destfile, exdir = \"data\")\n",
    "  \n",
    "  # Renombrar el archivo descomprimido a \"viviendas_xxxx.csv\"\n",
    "  file.rename(\n",
    "    from = \"data/viviendas.csv\", \n",
    "    to = paste0(\"data/viviendas_\", years[i], \".csv\")\n",
    "  )\n",
    "}    "
   ],
   "id": "854a59a424f73935",
   "outputs": [],
   "execution_count": 12
  },
  {
   "metadata": {},
   "cell_type": "markdown",
   "source": "### Función de estimación",
   "id": "88d2dd45a9ce0b2c"
  },
  {
   "metadata": {
    "ExecuteTime": {
     "end_time": "2025-01-09T00:44:07.092442Z",
     "start_time": "2025-01-09T00:44:07.080507Z"
    }
   },
   "cell_type": "code",
   "source": [
    "estimacion <- function(path, variable) {\n",
    "  # Cargar los datos\n",
    "  datos <- read_csv(path)\n",
    "  \n",
    "  datos <- datos %>%\n",
    "    mutate(\n",
    "      across(starts_with(\"mat\") & where(is.character),\n",
    "             ~ replace_na(parse_number(.x, na = c('', 'NA', '&')), 0)),\n",
    "      rezago = if_else(\n",
    "        ((tot_resid / num_cuarto) > 2.5) |\n",
    "          (mat_pared %in% 1:6) |\n",
    "          (mat_techos %in% c(1:4, 6, 7, 9)) |\n",
    "          (mat_pisos == 1) |\n",
    "          (excusado == 2),\n",
    "        \"En rezago\",\n",
    "        \"Fuera de rezago\"\n",
    "      )\n",
    "    ) %>%\n",
    "    mutate(cve_ent = case_when(\n",
    "      nchar(folioviv) == 9  ~ paste0(\"0\", substr(folioviv, 1, 1)),\n",
    "      nchar(folioviv) == 10 ~ substr(folioviv, 1, 2)\n",
    "    )) %>%\n",
    "    # Filtrar si entidad es 9\n",
    "  filter(cve_ent == \"09\")\n",
    "  \n",
    "  # Definir diseño muestral\n",
    "  mydesign <- datos %>%\n",
    "    as_survey_design(ids = upm,\n",
    "                     strata = est_dis,\n",
    "                     weights = factor)\n",
    "  \n",
    "  # Estimar rezago habitacional\n",
    "  rezago <- mydesign %>%\n",
    "    group_by(rezago) %>%\n",
    "    summarise(\n",
    "      viviendas = survey_total(vartype = \"cv\"),\n",
    "      pct = survey_prop(vartype = \"cv\")\n",
    "    ) %>%\n",
    "    mutate(pct = round(pct * 100, 2)) %>%\n",
    "    filter(rezago == \"En rezago\") %>%\n",
    "    # Añadir año\n",
    "    mutate(year = substr(path, 16, 19))\n",
    "  \n",
    "  \n",
    "  \n",
    "  # Estimar viviendas sin escrituras\n",
    "  escrituras <- mydesign %>%\n",
    "    filter(tenencia %in% c(3,4)) %>%\n",
    "group_by(escrituras) %>%\n",
    "    summarise(\n",
    "      viviendas = survey_total(vartype = \"cv\"),\n",
    "      pct = survey_prop(vartype = \"cv\")\n",
    "    ) %>%\n",
    "    filter(escrituras == 3) %>%\n",
    "    mutate(pct = round(pct * 100, 2),\n",
    "           escrituras = case_when(\n",
    "        escrituras == 3 ~ \"Sin escrituras\"\n",
    "))%>%\n",
    "    \n",
    "mutate(year = substr(path, 16, 19))\n",
    "  \n",
    "  # Devolver el resultado basado en la variable\n",
    "  if (variable == \"rezago\") {\n",
    "    return(rezago)\n",
    "  } else if (variable == \"sin_escrituras\") {\n",
    "    return(escrituras)\n",
    "  } else {\n",
    "    stop(\"Variable no reconocida. Use 'rezago' o 'sin_escrituras'.\")\n",
    "  }\n",
    "}\n"
   ],
   "id": "f5e298e3e532ea04",
   "outputs": [],
   "execution_count": 62
  },
  {
   "metadata": {
    "ExecuteTime": {
     "end_time": "2025-01-09T00:44:12.938796Z",
     "start_time": "2025-01-09T00:44:11.061428Z"
    }
   },
   "cell_type": "code",
   "source": [
    "#Construir cuadros de rezago habitacional\n",
    "\n",
    "tabla_rezago<-map_dfr(\n",
    "  list.files(\"data\", full.names = TRUE, pattern = \"viviendas_.*.csv\"),\n",
    "  estimacion,\n",
    "  variable = \"rezago\"\n",
    ") %>%\n",
    "  select(year, viviendas, pct)\n",
    "\n",
    "tabla_rezago\n"
   ],
   "id": "830dd86ff956b74a",
   "outputs": [
    {
     "name": "stderr",
     "output_type": "stream",
     "text": [
      "Warning message:\n",
      "\"\u001B[1m\u001B[22mOne or more parsing issues, call `problems()` on your data frame for details,\n",
      "e.g.:\n",
      "  dat <- vroom(...)\n",
      "  problems(dat)\"\n",
      "\u001B[1mRows: \u001B[22m\u001B[34m69169\u001B[39m \u001B[1mColumns: \u001B[22m\u001B[34m64\u001B[39m\n",
      "\u001B[36m──\u001B[39m \u001B[1mColumn specification\u001B[22m \u001B[36m────────────────────────────────────────────────────────\u001B[39m\n",
      "\u001B[1mDelimiter:\u001B[22m \",\"\n",
      "\u001B[31mchr\u001B[39m (10): folioviv, tipo_viv, mat_techos, tipo_finan, num_dueno1, num_dueno2...\n",
      "\u001B[32mdbl\u001B[39m (54): mat_pared, mat_pisos, antiguedad, antigua_ne, cocina, cocina_dor, ...\n",
      "\n",
      "\u001B[36mℹ\u001B[39m Use `spec()` to retrieve the full column specification for this data.\n",
      "\u001B[36mℹ\u001B[39m Specify the column types or set `show_col_types = FALSE` to quiet this message.\n",
      "Warning message:\n",
      "\"\u001B[1m\u001B[22mOne or more parsing issues, call `problems()` on your data frame for details,\n",
      "e.g.:\n",
      "  dat <- vroom(...)\n",
      "  problems(dat)\"\n",
      "\u001B[1mRows: \u001B[22m\u001B[34m73405\u001B[39m \u001B[1mColumns: \u001B[22m\u001B[34m64\u001B[39m\n",
      "\u001B[36m──\u001B[39m \u001B[1mColumn specification\u001B[22m \u001B[36m────────────────────────────────────────────────────────\u001B[39m\n",
      "\u001B[1mDelimiter:\u001B[22m \",\"\n",
      "\u001B[31mchr\u001B[39m  (9): folioviv, tipo_viv, mat_techos, tipo_finan, num_dueno1, num_dueno2...\n",
      "\u001B[32mdbl\u001B[39m (55): mat_pared, mat_pisos, antiguedad, antigua_ne, cocina, cocina_dor, ...\n",
      "\n",
      "\u001B[36mℹ\u001B[39m Use `spec()` to retrieve the full column specification for this data.\n",
      "\u001B[36mℹ\u001B[39m Specify the column types or set `show_col_types = FALSE` to quiet this message.\n",
      "Warning message:\n",
      "\"\u001B[1m\u001B[22mOne or more parsing issues, call `problems()` on your data frame for details,\n",
      "e.g.:\n",
      "  dat <- vroom(...)\n",
      "  problems(dat)\"\n",
      "\u001B[1mRows: \u001B[22m\u001B[34m87754\u001B[39m \u001B[1mColumns: \u001B[22m\u001B[34m64\u001B[39m\n",
      "\u001B[36m──\u001B[39m \u001B[1mColumn specification\u001B[22m \u001B[36m────────────────────────────────────────────────────────\u001B[39m\n",
      "\u001B[1mDelimiter:\u001B[22m \",\"\n",
      "\u001B[31mchr\u001B[39m  (9): folioviv, tipo_viv, mat_techos, tipo_finan, num_dueno1, num_dueno2...\n",
      "\u001B[32mdbl\u001B[39m (55): mat_pared, mat_pisos, antiguedad, antigua_ne, cocina, cocina_dor, ...\n",
      "\n",
      "\u001B[36mℹ\u001B[39m Use `spec()` to retrieve the full column specification for this data.\n",
      "\u001B[36mℹ\u001B[39m Specify the column types or set `show_col_types = FALSE` to quiet this message.\n",
      "Warning message:\n",
      "\"\u001B[1m\u001B[22mOne or more parsing issues, call `problems()` on your data frame for details,\n",
      "e.g.:\n",
      "  dat <- vroom(...)\n",
      "  problems(dat)\"\n",
      "\u001B[1mRows: \u001B[22m\u001B[34m88823\u001B[39m \u001B[1mColumns: \u001B[22m\u001B[34m64\u001B[39m\n",
      "\u001B[36m──\u001B[39m \u001B[1mColumn specification\u001B[22m \u001B[36m────────────────────────────────────────────────────────\u001B[39m\n",
      "\u001B[1mDelimiter:\u001B[22m \",\"\n",
      "\u001B[31mchr\u001B[39m  (9): folioviv, tipo_viv, mat_techos, tipo_finan, num_dueno1, num_dueno2...\n",
      "\u001B[32mdbl\u001B[39m (55): mat_pared, mat_pisos, antiguedad, antigua_ne, cocina, cocina_dor, ...\n",
      "\n",
      "\u001B[36mℹ\u001B[39m Use `spec()` to retrieve the full column specification for this data.\n",
      "\u001B[36mℹ\u001B[39m Specify the column types or set `show_col_types = FALSE` to quiet this message.\n"
     ]
    },
    {
     "data": {
      "text/html": [
       "<table class=\"dataframe\">\n",
       "<caption>A tibble: 4 × 3</caption>\n",
       "<thead>\n",
       "\t<tr><th scope=col>year</th><th scope=col>viviendas</th><th scope=col>pct</th></tr>\n",
       "\t<tr><th scope=col>&lt;chr&gt;</th><th scope=col>&lt;dbl&gt;</th><th scope=col>&lt;dbl&gt;</th></tr>\n",
       "</thead>\n",
       "<tbody>\n",
       "\t<tr><td>2016</td><td>272200</td><td>9.81</td></tr>\n",
       "\t<tr><td>2018</td><td>218501</td><td>8.02</td></tr>\n",
       "\t<tr><td>2020</td><td>198021</td><td>7.31</td></tr>\n",
       "\t<tr><td>2022</td><td>175242</td><td>5.94</td></tr>\n",
       "</tbody>\n",
       "</table>\n"
      ],
      "text/markdown": "\nA tibble: 4 × 3\n\n| year &lt;chr&gt; | viviendas &lt;dbl&gt; | pct &lt;dbl&gt; |\n|---|---|---|\n| 2016 | 272200 | 9.81 |\n| 2018 | 218501 | 8.02 |\n| 2020 | 198021 | 7.31 |\n| 2022 | 175242 | 5.94 |\n\n",
      "text/latex": "A tibble: 4 × 3\n\\begin{tabular}{lll}\n year & viviendas & pct\\\\\n <chr> & <dbl> & <dbl>\\\\\n\\hline\n\t 2016 & 272200 & 9.81\\\\\n\t 2018 & 218501 & 8.02\\\\\n\t 2020 & 198021 & 7.31\\\\\n\t 2022 & 175242 & 5.94\\\\\n\\end{tabular}\n",
      "text/plain": [
       "  year viviendas pct \n",
       "1 2016 272200    9.81\n",
       "2 2018 218501    8.02\n",
       "3 2020 198021    7.31\n",
       "4 2022 175242    5.94"
      ]
     },
     "metadata": {},
     "output_type": "display_data"
    }
   ],
   "execution_count": 63
  },
  {
   "metadata": {
    "ExecuteTime": {
     "end_time": "2025-01-09T00:44:14.545375Z",
     "start_time": "2025-01-09T00:44:12.955466Z"
    }
   },
   "cell_type": "code",
   "source": [
    "#Construir cuadros de viviendas sin escrituras\n",
    "#Viviendas sin escrituras corresponden a viviendas propias y propias que se están pagando y no cuentan con escrituras\n",
    "\n",
    "tabla_escrituras<-map_dfr(\n",
    "    list.files(\"data\", full.names = TRUE, pattern = \"viviendas_.*.csv\"),\n",
    "    estimacion,\n",
    "    variable = \"sin_escrituras\"\n",
    "    ) %>%\n",
    "    select(year, viviendas, pct)\n",
    "    \n",
    "tabla_escrituras"
   ],
   "id": "f7420f59e5cbff5c",
   "outputs": [
    {
     "name": "stderr",
     "output_type": "stream",
     "text": [
      "Warning message:\n",
      "\"\u001B[1m\u001B[22mOne or more parsing issues, call `problems()` on your data frame for details,\n",
      "e.g.:\n",
      "  dat <- vroom(...)\n",
      "  problems(dat)\"\n",
      "\u001B[1mRows: \u001B[22m\u001B[34m69169\u001B[39m \u001B[1mColumns: \u001B[22m\u001B[34m64\u001B[39m\n",
      "\u001B[36m──\u001B[39m \u001B[1mColumn specification\u001B[22m \u001B[36m────────────────────────────────────────────────────────\u001B[39m\n",
      "\u001B[1mDelimiter:\u001B[22m \",\"\n",
      "\u001B[31mchr\u001B[39m (10): folioviv, tipo_viv, mat_techos, tipo_finan, num_dueno1, num_dueno2...\n",
      "\u001B[32mdbl\u001B[39m (54): mat_pared, mat_pisos, antiguedad, antigua_ne, cocina, cocina_dor, ...\n",
      "\n",
      "\u001B[36mℹ\u001B[39m Use `spec()` to retrieve the full column specification for this data.\n",
      "\u001B[36mℹ\u001B[39m Specify the column types or set `show_col_types = FALSE` to quiet this message.\n",
      "Warning message:\n",
      "\"\u001B[1m\u001B[22mOne or more parsing issues, call `problems()` on your data frame for details,\n",
      "e.g.:\n",
      "  dat <- vroom(...)\n",
      "  problems(dat)\"\n",
      "\u001B[1mRows: \u001B[22m\u001B[34m73405\u001B[39m \u001B[1mColumns: \u001B[22m\u001B[34m64\u001B[39m\n",
      "\u001B[36m──\u001B[39m \u001B[1mColumn specification\u001B[22m \u001B[36m────────────────────────────────────────────────────────\u001B[39m\n",
      "\u001B[1mDelimiter:\u001B[22m \",\"\n",
      "\u001B[31mchr\u001B[39m  (9): folioviv, tipo_viv, mat_techos, tipo_finan, num_dueno1, num_dueno2...\n",
      "\u001B[32mdbl\u001B[39m (55): mat_pared, mat_pisos, antiguedad, antigua_ne, cocina, cocina_dor, ...\n",
      "\n",
      "\u001B[36mℹ\u001B[39m Use `spec()` to retrieve the full column specification for this data.\n",
      "\u001B[36mℹ\u001B[39m Specify the column types or set `show_col_types = FALSE` to quiet this message.\n",
      "Warning message:\n",
      "\"\u001B[1m\u001B[22mOne or more parsing issues, call `problems()` on your data frame for details,\n",
      "e.g.:\n",
      "  dat <- vroom(...)\n",
      "  problems(dat)\"\n",
      "\u001B[1mRows: \u001B[22m\u001B[34m87754\u001B[39m \u001B[1mColumns: \u001B[22m\u001B[34m64\u001B[39m\n",
      "\u001B[36m──\u001B[39m \u001B[1mColumn specification\u001B[22m \u001B[36m────────────────────────────────────────────────────────\u001B[39m\n",
      "\u001B[1mDelimiter:\u001B[22m \",\"\n",
      "\u001B[31mchr\u001B[39m  (9): folioviv, tipo_viv, mat_techos, tipo_finan, num_dueno1, num_dueno2...\n",
      "\u001B[32mdbl\u001B[39m (55): mat_pared, mat_pisos, antiguedad, antigua_ne, cocina, cocina_dor, ...\n",
      "\n",
      "\u001B[36mℹ\u001B[39m Use `spec()` to retrieve the full column specification for this data.\n",
      "\u001B[36mℹ\u001B[39m Specify the column types or set `show_col_types = FALSE` to quiet this message.\n",
      "Warning message:\n",
      "\"\u001B[1m\u001B[22mOne or more parsing issues, call `problems()` on your data frame for details,\n",
      "e.g.:\n",
      "  dat <- vroom(...)\n",
      "  problems(dat)\"\n",
      "\u001B[1mRows: \u001B[22m\u001B[34m88823\u001B[39m \u001B[1mColumns: \u001B[22m\u001B[34m64\u001B[39m\n",
      "\u001B[36m──\u001B[39m \u001B[1mColumn specification\u001B[22m \u001B[36m────────────────────────────────────────────────────────\u001B[39m\n",
      "\u001B[1mDelimiter:\u001B[22m \",\"\n",
      "\u001B[31mchr\u001B[39m  (9): folioviv, tipo_viv, mat_techos, tipo_finan, num_dueno1, num_dueno2...\n",
      "\u001B[32mdbl\u001B[39m (55): mat_pared, mat_pisos, antiguedad, antigua_ne, cocina, cocina_dor, ...\n",
      "\n",
      "\u001B[36mℹ\u001B[39m Use `spec()` to retrieve the full column specification for this data.\n",
      "\u001B[36mℹ\u001B[39m Specify the column types or set `show_col_types = FALSE` to quiet this message.\n"
     ]
    },
    {
     "data": {
      "text/html": [
       "<table class=\"dataframe\">\n",
       "<caption>A tibble: 4 × 3</caption>\n",
       "<thead>\n",
       "\t<tr><th scope=col>year</th><th scope=col>viviendas</th><th scope=col>pct</th></tr>\n",
       "\t<tr><th scope=col>&lt;chr&gt;</th><th scope=col>&lt;dbl&gt;</th><th scope=col>&lt;dbl&gt;</th></tr>\n",
       "</thead>\n",
       "<tbody>\n",
       "\t<tr><td>2016</td><td>266547</td><td>17.71</td></tr>\n",
       "\t<tr><td>2018</td><td>246283</td><td>17.22</td></tr>\n",
       "\t<tr><td>2020</td><td>259056</td><td>16.23</td></tr>\n",
       "\t<tr><td>2022</td><td>310191</td><td>17.63</td></tr>\n",
       "</tbody>\n",
       "</table>\n"
      ],
      "text/markdown": "\nA tibble: 4 × 3\n\n| year &lt;chr&gt; | viviendas &lt;dbl&gt; | pct &lt;dbl&gt; |\n|---|---|---|\n| 2016 | 266547 | 17.71 |\n| 2018 | 246283 | 17.22 |\n| 2020 | 259056 | 16.23 |\n| 2022 | 310191 | 17.63 |\n\n",
      "text/latex": "A tibble: 4 × 3\n\\begin{tabular}{lll}\n year & viviendas & pct\\\\\n <chr> & <dbl> & <dbl>\\\\\n\\hline\n\t 2016 & 266547 & 17.71\\\\\n\t 2018 & 246283 & 17.22\\\\\n\t 2020 & 259056 & 16.23\\\\\n\t 2022 & 310191 & 17.63\\\\\n\\end{tabular}\n",
      "text/plain": [
       "  year viviendas pct  \n",
       "1 2016 266547    17.71\n",
       "2 2018 246283    17.22\n",
       "3 2020 259056    16.23\n",
       "4 2022 310191    17.63"
      ]
     },
     "metadata": {},
     "output_type": "display_data"
    }
   ],
   "execution_count": 64
  }
 ],
 "metadata": {
  "kernelspec": {
   "display_name": "R",
   "language": "R",
   "name": "ir"
  },
  "language_info": {
   "codemirror_mode": {
    "name": "ipython",
    "version": 2
   },
   "file_extension": ".py",
   "mimetype": "text/x-python",
   "name": "python",
   "nbconvert_exporter": "python",
   "pygments_lexer": "ipython2",
   "version": "2.7.6"
  }
 },
 "nbformat": 4,
 "nbformat_minor": 5
}
