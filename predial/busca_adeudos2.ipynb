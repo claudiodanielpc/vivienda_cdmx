{
 "cells": [
  {
   "cell_type": "code",
   "id": "initial_id",
   "metadata": {
    "collapsed": true,
    "execution": {
     "iopub.execute_input": "2024-11-26T06:40:51.656279Z",
     "iopub.status.busy": "2024-11-26T06:40:51.656279Z",
     "iopub.status.idle": "2024-11-26T06:40:52.323020Z",
     "shell.execute_reply": "2024-11-26T06:40:52.323020Z"
    },
    "ExecuteTime": {
     "end_time": "2024-12-07T01:29:30.608222Z",
     "start_time": "2024-12-07T01:29:29.560255Z"
    }
   },
   "source": [
    "import pandas as pd\n",
    "import requests\n",
    "from tqdm import tqdm\n",
    "from concurrent.futures import ThreadPoolExecutor, as_completed\n",
    "import os"
   ],
   "outputs": [],
   "execution_count": 1
  },
  {
   "cell_type": "code",
   "id": "6b4a7387",
   "metadata": {
    "execution": {
     "iopub.execute_input": "2024-11-26T06:40:52.323020Z",
     "iopub.status.busy": "2024-11-26T06:40:52.323020Z",
     "iopub.status.idle": "2024-11-26T06:40:52.330922Z",
     "shell.execute_reply": "2024-11-26T06:40:52.330922Z"
    },
    "ExecuteTime": {
     "end_time": "2024-12-07T01:29:30.621412Z",
     "start_time": "2024-12-07T01:29:30.613727Z"
    }
   },
   "source": [
    "os.getcwd()"
   ],
   "outputs": [
    {
     "data": {
      "text/plain": [
       "'C:\\\\Users\\\\claud\\\\Documents\\\\GitHub\\\\vivienda_cdmx\\\\predial'"
      ]
     },
     "execution_count": 2,
     "metadata": {},
     "output_type": "execute_result"
    }
   ],
   "execution_count": 2
  },
  {
   "cell_type": "code",
   "id": "e0dc5e4dc272d50b",
   "metadata": {
    "execution": {
     "iopub.execute_input": "2024-11-26T06:40:52.333455Z",
     "iopub.status.busy": "2024-11-26T06:40:52.333455Z",
     "iopub.status.idle": "2024-11-26T06:40:52.337684Z",
     "shell.execute_reply": "2024-11-26T06:40:52.337684Z"
    },
    "ExecuteTime": {
     "end_time": "2024-12-07T01:29:30.813546Z",
     "start_time": "2024-12-07T01:29:30.808498Z"
    }
   },
   "source": [
    "def busca_adeudos(cuenta):\n",
    "    url=\"https://ovica.finanzas.cdmx.gob.mx/ovica-backend/public/api/v1/adeudos/vencido/\"+cuenta\n",
    "    r=requests.get(url)\n",
    "    try:\n",
    "        data=r.json()\n",
    "        #Obtener ejercicios de adeudos, periodos y montos\n",
    "        ejercicio=[]\n",
    "        periodo=[]\n",
    "        monto=[]\n",
    "        \n",
    "        \n",
    "        for i in range(len(data)):\n",
    "            ejercicio.append(data[i]['ANO'])\n",
    "            periodo.append(data[i]['PERIODO'])\n",
    "            monto.append(data[i]['SALDO'])\n",
    "            \n",
    "        df_ad=pd.DataFrame({\n",
    "            'cuenta_adeudo': [cuenta] * len(ejercicio),\n",
    "            'cuenta_shp': [cuenta[:8]] * len(ejercicio),\n",
    "            'anio':ejercicio, 'bimestre':periodo, 'monto':monto})\n",
    "    #Variables a numerico\n",
    "        df_ad['anio']=pd.to_numeric(df_ad['anio'])\n",
    "        df_ad['bimestre']=pd.to_numeric(df_ad['bimestre'])\n",
    "        df_ad['monto']=pd.to_numeric(df_ad['monto'])\n",
    "        \n",
    "    except:\n",
    "        df_ad = pd.DataFrame()\n",
    "    return df_ad\n",
    "        "
   ],
   "outputs": [],
   "execution_count": 3
  },
  {
   "cell_type": "code",
   "id": "698fe9c9fa7719e3",
   "metadata": {
    "execution": {
     "iopub.execute_input": "2024-11-26T06:40:52.338717Z",
     "iopub.status.busy": "2024-11-26T06:40:52.338717Z",
     "iopub.status.idle": "2024-11-26T06:40:52.342578Z",
     "shell.execute_reply": "2024-11-26T06:40:52.342578Z"
    },
    "ExecuteTime": {
     "end_time": "2024-12-07T01:29:30.827338Z",
     "start_time": "2024-12-07T01:29:30.822833Z"
    }
   },
   "source": [
    "# # Function to fetch data for a single cuenta\n",
    "# def fetch_adeudo(cuenta):\n",
    "#     try:\n",
    "#         return busca_adeudos(cuenta)  # Calls your function\n",
    "#     except Exception as e:\n",
    "#         print(f\"Error con la cuenta {cuenta}: {e}\")\n",
    "#         return pd.DataFrame()  # Return an empty DataFrame if there's an error\n",
    "\n",
    "# # Parallel processing function\n",
    "# def parallel_fetch(cuentas, max_workers=10):\n",
    "#     adeudo_tot = pd.DataFrame()\n",
    "    \n",
    "#     with ThreadPoolExecutor(max_workers=max_workers) as executor:\n",
    "#         # Submit all requests\n",
    "#         futures = {executor.submit(fetch_adeudo, cuenta): cuenta for cuenta in cuentas}\n",
    "        \n",
    "#         # Use tqdm for progress tracking\n",
    "#         for future in tqdm(as_completed(futures), total=len(futures)):\n",
    "#             try:\n",
    "#                 result = future.result()\n",
    "#                 if not result.empty:  # Concatenate non-empty DataFrames\n",
    "#                     adeudo_tot = pd.concat([adeudo_tot, result], ignore_index=True)\n",
    "#             except Exception as e:\n",
    "#                 print(f\"Ocurrió un error: {e}\")\n",
    "    \n",
    "#     return adeudo_tot\n"
   ],
   "outputs": [],
   "execution_count": 4
  },
  {
   "cell_type": "code",
   "id": "5c3b9744",
   "metadata": {
    "execution": {
     "iopub.execute_input": "2024-11-26T06:40:52.342578Z",
     "iopub.status.busy": "2024-11-26T06:40:52.342578Z",
     "iopub.status.idle": "2024-11-26T06:40:52.348388Z",
     "shell.execute_reply": "2024-11-26T06:40:52.348388Z"
    },
    "ExecuteTime": {
     "end_time": "2024-12-07T01:29:30.851007Z",
     "start_time": "2024-12-07T01:29:30.838939Z"
    }
   },
   "source": [
    "# Function to fetch data for a single cuenta\n",
    "def fetch_adeudo(cuenta):\n",
    "    try:\n",
    "        return busca_adeudos(cuenta)  # Calls your function\n",
    "    except Exception as e:\n",
    "        return None  # Return None for failed requests\n",
    "\n",
    "\n",
    "def parallel_fetch(cuentas, max_workers=10):\n",
    "    adeudo_tot = pd.DataFrame()\n",
    "    failed_cuentas = []  # List to store failed cuentas\n",
    "\n",
    "    with ThreadPoolExecutor(max_workers=max_workers) as executor:\n",
    "        # Submit all requests\n",
    "        futures = {executor.submit(fetch_adeudo, cuenta): cuenta for cuenta in cuentas}\n",
    "        \n",
    "        # Create a tqdm progress bar for the total number of requests\n",
    "        with tqdm(total=len(futures), desc=\"Procesando requests\", ncols=80) as pbar:\n",
    "            for future in as_completed(futures):\n",
    "                cuenta = futures[future]  # Get the corresponding cuenta\n",
    "                try:\n",
    "                    result = future.result()\n",
    "                    if result is None:\n",
    "                        failed_cuentas.append(cuenta)  # Save cuenta for retry\n",
    "                    elif not result.empty:  # Concatenate non-empty DataFrames\n",
    "                        adeudo_tot = pd.concat([adeudo_tot, result], ignore_index=True)\n",
    "                except Exception as e:\n",
    "                    failed_cuentas.append(cuenta)  # Save cuenta for retry if an error occurs\n",
    "                \n",
    "                # Update the progress bar after each completed request\n",
    "                pbar.update(1)\n",
    "    \n",
    "    return adeudo_tot, failed_cuentas"
   ],
   "outputs": [],
   "execution_count": 5
  },
  {
   "cell_type": "code",
   "id": "38ae3068a954fa8",
   "metadata": {
    "execution": {
     "iopub.execute_input": "2024-11-26T06:40:52.349396Z",
     "iopub.status.busy": "2024-11-26T06:40:52.349396Z",
     "iopub.status.idle": "2024-11-26T06:41:09.534635Z",
     "shell.execute_reply": "2024-11-26T06:41:09.534635Z"
    },
    "ExecuteTime": {
     "end_time": "2024-12-07T01:29:30.895914Z",
     "start_time": "2024-12-07T01:29:30.855398Z"
    }
   },
   "source": [
    "#Leer cuentas únicas\n",
    "padron_predial=pd.read_csv('cuentas_unicas/cuentas_unicas_1500000.txt', header=None).rename(columns={0:'cuenta_adeudo'})\n",
    "print(len(padron_predial))\n",
    "#Transformar a lista\n",
    "lote=padron_predial['cuenta_adeudo'].tolist()"
   ],
   "outputs": [
    {
     "name": "stdout",
     "output_type": "stream",
     "text": [
      "100000\n"
     ]
    }
   ],
   "execution_count": 6
  },
  {
   "metadata": {
    "ExecuteTime": {
     "end_time": "2024-12-07T01:29:30.998481Z",
     "start_time": "2024-12-07T01:29:30.992990Z"
    }
   },
   "cell_type": "code",
   "source": [
    "path = \"cuentas_fallidas\"\n",
    "files=os.listdir(path)\n",
    "files"
   ],
   "id": "67017298ada27591",
   "outputs": [
    {
     "data": {
      "text/plain": [
       "['failed_cuentas_0.txt',\n",
       " 'failed_cuentas_100000.txt',\n",
       " 'failed_cuentas_1000000.txt',\n",
       " 'failed_cuentas_1100000.txt',\n",
       " 'failed_cuentas_1200000.txt',\n",
       " 'failed_cuentas_1300000.txt',\n",
       " 'failed_cuentas_1400000.txt',\n",
       " 'failed_cuentas_1500000.txt',\n",
       " 'failed_cuentas_1600000.txt',\n",
       " 'failed_cuentas_1700000.txt',\n",
       " 'failed_cuentas_1900000.txt',\n",
       " 'failed_cuentas_200000.txt',\n",
       " 'failed_cuentas_2000000.txt',\n",
       " 'failed_cuentas_2100000.txt',\n",
       " 'failed_cuentas_2200000.txt',\n",
       " 'failed_cuentas_300000.txt',\n",
       " 'failed_cuentas_400000.txt',\n",
       " 'failed_cuentas_500000.txt',\n",
       " 'failed_cuentas_600000.txt',\n",
       " 'failed_cuentas_700000.txt',\n",
       " 'failed_cuentas_800000.txt',\n",
       " 'failed_cuentas_900000.txt',\n",
       " 'failed_cuentas_partial.txt']"
      ]
     },
     "execution_count": 7,
     "metadata": {},
     "output_type": "execute_result"
    }
   ],
   "execution_count": 7
  },
  {
   "metadata": {
    "ExecuteTime": {
     "end_time": "2024-12-07T01:29:31.149700Z",
     "start_time": "2024-12-07T01:29:31.096184Z"
    }
   },
   "cell_type": "code",
   "source": [
    "\n",
    "# Initialize an empty DataFrame\n",
    "df = pd.DataFrame()\n",
    "\n",
    "\n",
    "for file in files:\n",
    "    file_path = os.path.join(path, file)\n",
    "    if os.path.getsize(file_path) > 0:  # Check if the file is not empty\n",
    "        try:\n",
    "            # Load the file as a single column without headers\n",
    "            temp_df = pd.read_csv(file_path, header=None, names=['cuenta_adeudo'], low_memory=False)\n",
    "            if not temp_df.empty:  # Check if the DataFrame is not empty\n",
    "                df = pd.concat([df, temp_df], ignore_index=True)\n",
    "            else:\n",
    "                print(f\"Skipping empty file: {file}\")\n",
    "        except pd.errors.EmptyDataError:\n",
    "            print(f\"Skipping invalid file: {file}\")\n",
    "    else:\n",
    "        print(f\"Skipping empty file: {file}\")\n",
    "\n",
    "\n"
   ],
   "id": "c745efb87d5d7492",
   "outputs": [
    {
     "name": "stdout",
     "output_type": "stream",
     "text": [
      "Skipping empty file: failed_cuentas_partial.txt\n"
     ]
    }
   ],
   "execution_count": 8
  },
  {
   "metadata": {
    "ExecuteTime": {
     "end_time": "2024-12-07T01:29:31.216169Z",
     "start_time": "2024-12-07T01:29:31.155953Z"
    }
   },
   "cell_type": "code",
   "source": [
    "#Largo de cuentas fallidas a 12 caracteres\n",
    "df['cuenta_adeudo'] = df['cuenta_adeudo'].astype(str).str.zfill(12)\n",
    "#Transformar a lista\n",
    "lote=df['cuenta_adeudo'].tolist()\n",
    "print(len(lote))"
   ],
   "id": "c5159a411a21555f",
   "outputs": [
    {
     "name": "stdout",
     "output_type": "stream",
     "text": [
      "200063\n"
     ]
    }
   ],
   "execution_count": 9
  },
  {
   "metadata": {
    "ExecuteTime": {
     "end_time": "2024-12-07T04:04:19.138685Z",
     "start_time": "2024-12-07T04:04:19.133355Z"
    }
   },
   "cell_type": "code",
   "source": "lote=[\"016064040039\"]",
   "id": "27c8e98427083c1c",
   "outputs": [],
   "execution_count": 13
  },
  {
   "cell_type": "markdown",
   "id": "43726196ffd7f570",
   "metadata": {},
   "source": [
    "### Buscar adeudos"
   ]
  },
  {
   "cell_type": "code",
   "id": "7eaff241a23ff215",
   "metadata": {
    "execution": {
     "iopub.execute_input": "2024-11-26T06:41:10.040456Z",
     "iopub.status.busy": "2024-11-26T06:41:10.040456Z",
     "iopub.status.idle": "2024-11-26T06:41:19.121805Z",
     "shell.execute_reply": "2024-11-26T06:41:19.121805Z"
    },
    "ExecuteTime": {
     "end_time": "2024-12-07T04:04:22.121065Z",
     "start_time": "2024-12-07T04:04:21.590903Z"
    }
   },
   "source": "adeudo_tot,failed_cuentas = parallel_fetch(lote, max_workers=10)",
   "outputs": [
    {
     "name": "stderr",
     "output_type": "stream",
     "text": [
      "Procesando requests: 100%|████████████████████████| 1/1 [00:00<00:00,  2.45it/s]\n"
     ]
    }
   ],
   "execution_count": 14
  },
  {
   "cell_type": "code",
   "id": "900f1aa4f4b66d68",
   "metadata": {
    "execution": {
     "iopub.execute_input": "2024-11-26T06:41:19.126978Z",
     "iopub.status.busy": "2024-11-26T06:41:19.126978Z",
     "iopub.status.idle": "2024-11-26T06:41:19.131839Z",
     "shell.execute_reply": "2024-11-26T06:41:19.131839Z"
    },
    "ExecuteTime": {
     "end_time": "2024-12-07T04:04:24.145466Z",
     "start_time": "2024-12-07T04:04:24.141935Z"
    }
   },
   "source": [
    "print(\"Total de registros: \", len(adeudo_tot))"
   ],
   "outputs": [
    {
     "name": "stdout",
     "output_type": "stream",
     "text": [
      "Total de registros:  41\n"
     ]
    }
   ],
   "execution_count": 15
  },
  {
   "cell_type": "code",
   "id": "4839b76a12438c7d",
   "metadata": {
    "execution": {
     "iopub.execute_input": "2024-11-26T06:41:19.131839Z",
     "iopub.status.busy": "2024-11-26T06:41:19.131839Z",
     "iopub.status.idle": "2024-11-26T06:41:19.142785Z",
     "shell.execute_reply": "2024-11-26T06:41:19.142785Z"
    },
    "ExecuteTime": {
     "end_time": "2024-12-07T04:04:36.510795Z",
     "start_time": "2024-12-07T04:04:36.506595Z"
    }
   },
   "source": [
    "adeudo_tot.to_csv('adeudos/adeudos_finales_finales.csv', index=False)\n",
    "\n",
    "with open('cuentas_fallidas/failed_cuentas_finales_finales  .txt', 'w') as f:\n",
    "    # Convert all items in failed_cuentas to strings before joining\n",
    "    f.write('\\n'.join(map(str, failed_cuentas)))"
   ],
   "outputs": [],
   "execution_count": 16
  }
 ],
 "metadata": {
  "kernelspec": {
   "display_name": "base",
   "language": "python",
   "name": "python3"
  },
  "language_info": {
   "codemirror_mode": {
    "name": "ipython",
    "version": 3
   },
   "file_extension": ".py",
   "mimetype": "text/x-python",
   "name": "python",
   "nbconvert_exporter": "python",
   "pygments_lexer": "ipython3",
   "version": "3.12.4"
  }
 },
 "nbformat": 4,
 "nbformat_minor": 5
}
