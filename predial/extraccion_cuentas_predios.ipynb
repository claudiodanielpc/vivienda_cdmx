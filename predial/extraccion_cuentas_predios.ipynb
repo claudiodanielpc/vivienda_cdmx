{
 "cells": [
  {
   "cell_type": "code",
   "id": "initial_id",
   "metadata": {
    "collapsed": true,
    "ExecuteTime": {
     "end_time": "2025-01-06T04:12:01.838085Z",
     "start_time": "2025-01-06T04:12:01.834282Z"
    }
   },
   "source": [
    "import requests\n",
    "import os\n",
    "import zipfile\n",
    "import geopandas as gpd\n",
    "import pandas as pd"
   ],
   "outputs": [],
   "execution_count": 13
  },
  {
   "metadata": {
    "ExecuteTime": {
     "end_time": "2025-01-06T04:07:27.260813Z",
     "start_time": "2025-01-06T04:07:27.257743Z"
    }
   },
   "cell_type": "code",
   "source": [
    "url_basica=\"https://catalogov2.sig.cdmx.gob.mx/descargas/csv_shapes_catastro/shapefiles/catastro2021_\"\n",
    "fin=\".zip\""
   ],
   "id": "50ee5f743d59e039",
   "outputs": [],
   "execution_count": 2
  },
  {
   "metadata": {
    "ExecuteTime": {
     "end_time": "2025-01-06T04:07:27.313476Z",
     "start_time": "2025-01-06T04:07:27.310441Z"
    }
   },
   "cell_type": "code",
   "source": [
    "#crear directorio para guardar los archivos\n",
    "os.makedirs(\"catastro_abierto\",exist_ok=True)"
   ],
   "id": "cfa9d0e6c68510da",
   "outputs": [],
   "execution_count": 3
  },
  {
   "metadata": {
    "ExecuteTime": {
     "end_time": "2025-01-06T04:28:39.997394Z",
     "start_time": "2025-01-06T04:28:39.994151Z"
    }
   },
   "cell_type": "code",
   "source": [
    "#Listado de alcaldías\n",
    "alcaldias=[\"AlVARO_OBREGON\",\"AZCAPOTZALCO\",\"BENITO_JUAREZ\",\"COYOACAN\",\"CUAJIMALPA\",\"CUAUHTEMOC\",\"GUSTAVO_A_MADERO\",\"IZTACALCO\",\"IZTAPALAPA\",\"MAGDALENA_CONTRERAS\",\"MIGUEL_HIDALGO\",\"MILPA_ALTA\",\"TLAHUAC\",\"TLALPAN\",\"VENUSTIANO_CARRANZA\",\"XOCHIMILCO\"]\n",
    "#Alcaldías lower\n",
    "alcaldias_low=[alcaldia.lower() for alcaldia in alcaldias]"
   ],
   "id": "b7a97db30a8e6fa8",
   "outputs": [],
   "execution_count": 28
  },
  {
   "metadata": {
    "ExecuteTime": {
     "end_time": "2025-01-06T04:29:28.767334Z",
     "start_time": "2025-01-06T04:28:45.389318Z"
    }
   },
   "cell_type": "code",
   "source": [
    "#Descarga de archivos csv\n",
    "url_basica=\"https://catalogov2.sig.cdmx.gob.mx/descargas/csv_shapes/\"\n",
    "fin=\".csv\"\n",
    "for alcaldia in alcaldias_low:\n",
    "    url=url_basica+alcaldia+fin\n",
    "    r=requests.get(url)\n",
    "    with open(\"catastro_abierto/\"+alcaldia+\".csv\",\"wb\") as f:\n",
    "        f.write(r.content)\n",
    "        "
   ],
   "id": "c677a6bf1b3372d7",
   "outputs": [],
   "execution_count": 29
  },
  {
   "metadata": {
    "ExecuteTime": {
     "end_time": "2025-01-06T04:32:09.276661Z",
     "start_time": "2025-01-06T04:32:03.015666Z"
    }
   },
   "cell_type": "code",
   "source": [
    "#Pegar los archivos csv\n",
    "df=pd.DataFrame()\n",
    "for alcaldia in alcaldias_low:\n",
    "    df_temp=pd.read_csv(\"catastro_abierto/\"+alcaldia+\".csv\",encoding=\"latin1\")\n",
    "    df=pd.concat([df,df_temp])\n",
    "df=df[[\"liga_ciuda\",\"longitud\",\"latitud\"]]\n",
    "#Extraer cuenta catastral utilizando el texto después de \"cuenta_catastral=\" y hasta el siguiente \"&\"\n",
    "df[\"cuenta_catastral\"]=df[\"liga_ciuda\"].str.extract(r\"cuentaCatastral=(.*?)&\")\n",
    "#Eliminar guiones de cuenta catastral\n",
    "df[\"cuenta_catastral\"]=df[\"cuenta_catastral\"].str.replace(\"_\",\"\")\n",
    "#Crear una variable para obtener el largo de la cuenta catastral\n",
    "df[\"largo\"]=df[\"cuenta_catastral\"].str.len()\n",
    "df"
   ],
   "id": "1cf92857ab56c7e4",
   "outputs": [
    {
     "data": {
      "text/plain": [
       "                                              liga_ciuda   longitud  \\\n",
       "0      http://ciudadmx.cdmx.gob.mx:8080/seduvi/fichas... -99.195565   \n",
       "1      http://ciudadmx.cdmx.gob.mx:8080/seduvi/fichas... -99.194779   \n",
       "2      http://ciudadmx.cdmx.gob.mx:8080/seduvi/fichas... -99.192933   \n",
       "3      http://ciudadmx.cdmx.gob.mx:8080/seduvi/fichas... -99.193317   \n",
       "4      http://ciudadmx.cdmx.gob.mx:8080/seduvi/fichas... -99.193027   \n",
       "...                                                  ...        ...   \n",
       "77650  http://ciudadmx.cdmx.gob.mx:8080/seduvi/fichas... -99.103666   \n",
       "77651  http://ciudadmx.cdmx.gob.mx:8080/seduvi/fichas... -99.096768   \n",
       "77652  http://ciudadmx.cdmx.gob.mx:8080/seduvi/fichas... -99.093015   \n",
       "77653  http://ciudadmx.cdmx.gob.mx:8080/seduvi/fichas... -99.107928   \n",
       "77654  http://ciudadmx.cdmx.gob.mx:8080/seduvi/fichas... -99.129491   \n",
       "\n",
       "         latitud cuenta_catastral  largo  \n",
       "0      19.403121         03710701      8  \n",
       "1      19.403212         03710901      8  \n",
       "2      19.401788         03712109      8  \n",
       "3      19.400919         03712204      8  \n",
       "4      19.400621         03712316      8  \n",
       "...          ...              ...    ...  \n",
       "77650  19.215674         77266524      8  \n",
       "77651  19.230653         77266907      8  \n",
       "77652  19.233633         77267108      8  \n",
       "77653  19.199792         77268427      8  \n",
       "77654  19.206199         77286607      8  \n",
       "\n",
       "[1215066 rows x 5 columns]"
      ],
      "text/html": [
       "<div>\n",
       "<style scoped>\n",
       "    .dataframe tbody tr th:only-of-type {\n",
       "        vertical-align: middle;\n",
       "    }\n",
       "\n",
       "    .dataframe tbody tr th {\n",
       "        vertical-align: top;\n",
       "    }\n",
       "\n",
       "    .dataframe thead th {\n",
       "        text-align: right;\n",
       "    }\n",
       "</style>\n",
       "<table border=\"1\" class=\"dataframe\">\n",
       "  <thead>\n",
       "    <tr style=\"text-align: right;\">\n",
       "      <th></th>\n",
       "      <th>liga_ciuda</th>\n",
       "      <th>longitud</th>\n",
       "      <th>latitud</th>\n",
       "      <th>cuenta_catastral</th>\n",
       "      <th>largo</th>\n",
       "    </tr>\n",
       "  </thead>\n",
       "  <tbody>\n",
       "    <tr>\n",
       "      <th>0</th>\n",
       "      <td>http://ciudadmx.cdmx.gob.mx:8080/seduvi/fichas...</td>\n",
       "      <td>-99.195565</td>\n",
       "      <td>19.403121</td>\n",
       "      <td>03710701</td>\n",
       "      <td>8</td>\n",
       "    </tr>\n",
       "    <tr>\n",
       "      <th>1</th>\n",
       "      <td>http://ciudadmx.cdmx.gob.mx:8080/seduvi/fichas...</td>\n",
       "      <td>-99.194779</td>\n",
       "      <td>19.403212</td>\n",
       "      <td>03710901</td>\n",
       "      <td>8</td>\n",
       "    </tr>\n",
       "    <tr>\n",
       "      <th>2</th>\n",
       "      <td>http://ciudadmx.cdmx.gob.mx:8080/seduvi/fichas...</td>\n",
       "      <td>-99.192933</td>\n",
       "      <td>19.401788</td>\n",
       "      <td>03712109</td>\n",
       "      <td>8</td>\n",
       "    </tr>\n",
       "    <tr>\n",
       "      <th>3</th>\n",
       "      <td>http://ciudadmx.cdmx.gob.mx:8080/seduvi/fichas...</td>\n",
       "      <td>-99.193317</td>\n",
       "      <td>19.400919</td>\n",
       "      <td>03712204</td>\n",
       "      <td>8</td>\n",
       "    </tr>\n",
       "    <tr>\n",
       "      <th>4</th>\n",
       "      <td>http://ciudadmx.cdmx.gob.mx:8080/seduvi/fichas...</td>\n",
       "      <td>-99.193027</td>\n",
       "      <td>19.400621</td>\n",
       "      <td>03712316</td>\n",
       "      <td>8</td>\n",
       "    </tr>\n",
       "    <tr>\n",
       "      <th>...</th>\n",
       "      <td>...</td>\n",
       "      <td>...</td>\n",
       "      <td>...</td>\n",
       "      <td>...</td>\n",
       "      <td>...</td>\n",
       "    </tr>\n",
       "    <tr>\n",
       "      <th>77650</th>\n",
       "      <td>http://ciudadmx.cdmx.gob.mx:8080/seduvi/fichas...</td>\n",
       "      <td>-99.103666</td>\n",
       "      <td>19.215674</td>\n",
       "      <td>77266524</td>\n",
       "      <td>8</td>\n",
       "    </tr>\n",
       "    <tr>\n",
       "      <th>77651</th>\n",
       "      <td>http://ciudadmx.cdmx.gob.mx:8080/seduvi/fichas...</td>\n",
       "      <td>-99.096768</td>\n",
       "      <td>19.230653</td>\n",
       "      <td>77266907</td>\n",
       "      <td>8</td>\n",
       "    </tr>\n",
       "    <tr>\n",
       "      <th>77652</th>\n",
       "      <td>http://ciudadmx.cdmx.gob.mx:8080/seduvi/fichas...</td>\n",
       "      <td>-99.093015</td>\n",
       "      <td>19.233633</td>\n",
       "      <td>77267108</td>\n",
       "      <td>8</td>\n",
       "    </tr>\n",
       "    <tr>\n",
       "      <th>77653</th>\n",
       "      <td>http://ciudadmx.cdmx.gob.mx:8080/seduvi/fichas...</td>\n",
       "      <td>-99.107928</td>\n",
       "      <td>19.199792</td>\n",
       "      <td>77268427</td>\n",
       "      <td>8</td>\n",
       "    </tr>\n",
       "    <tr>\n",
       "      <th>77654</th>\n",
       "      <td>http://ciudadmx.cdmx.gob.mx:8080/seduvi/fichas...</td>\n",
       "      <td>-99.129491</td>\n",
       "      <td>19.206199</td>\n",
       "      <td>77286607</td>\n",
       "      <td>8</td>\n",
       "    </tr>\n",
       "  </tbody>\n",
       "</table>\n",
       "<p>1215066 rows × 5 columns</p>\n",
       "</div>"
      ]
     },
     "execution_count": 36,
     "metadata": {},
     "output_type": "execute_result"
    }
   ],
   "execution_count": 36
  },
  {
   "metadata": {
    "ExecuteTime": {
     "end_time": "2025-01-06T04:32:22.199054Z",
     "start_time": "2025-01-06T04:32:22.187610Z"
    }
   },
   "cell_type": "code",
   "source": "df[\"largo\"].unique()",
   "id": "9fd20a991155aee",
   "outputs": [
    {
     "data": {
      "text/plain": [
       "array([8], dtype=int64)"
      ]
     },
     "execution_count": 37,
     "metadata": {},
     "output_type": "execute_result"
    }
   ],
   "execution_count": 37
  },
  {
   "metadata": {
    "ExecuteTime": {
     "end_time": "2025-01-06T04:33:51.159180Z",
     "start_time": "2025-01-06T04:33:47.726319Z"
    }
   },
   "cell_type": "code",
   "source": [
    "#Salvar cuentas\n",
    "df.to_csv(\"cuentas_catastrales_abiertas.csv\",index=False)"
   ],
   "id": "bb255c5370ce39fc",
   "outputs": [],
   "execution_count": 38
  }
 ],
 "metadata": {
  "kernelspec": {
   "display_name": "Python 3",
   "language": "python",
   "name": "python3"
  },
  "language_info": {
   "codemirror_mode": {
    "name": "ipython",
    "version": 2
   },
   "file_extension": ".py",
   "mimetype": "text/x-python",
   "name": "python",
   "nbconvert_exporter": "python",
   "pygments_lexer": "ipython2",
   "version": "2.7.6"
  }
 },
 "nbformat": 4,
 "nbformat_minor": 5
}
