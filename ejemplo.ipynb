{
 "cells": [
  {
   "cell_type": "code",
   "execution_count": 2,
   "metadata": {
    "ExecuteTime": {
     "end_time": "2024-04-07T17:32:40.319251Z",
     "start_time": "2024-04-07T17:32:40.255737Z"
    }
   },
   "outputs": [
    {
     "ename": "ModuleNotFoundError",
     "evalue": "No module named 'vivienda_cdmx.tools.amenities'",
     "output_type": "error",
     "traceback": [
      "\u001B[1;31m---------------------------------------------------------------------------\u001B[0m",
      "\u001B[1;31mModuleNotFoundError\u001B[0m                       Traceback (most recent call last)",
      "Cell \u001B[1;32mIn[2], line 2\u001B[0m\n\u001B[0;32m      1\u001B[0m \u001B[38;5;66;03m#Importar librerías\u001B[39;00m\n\u001B[1;32m----> 2\u001B[0m \u001B[38;5;28;01mfrom\u001B[39;00m \u001B[38;5;21;01mvivienda_cdmx\u001B[39;00m\u001B[38;5;21;01m.\u001B[39;00m\u001B[38;5;21;01mvivicdmx\u001B[39;00m \u001B[38;5;28;01mimport\u001B[39;00m lamudi,easybroker\n\u001B[0;32m      3\u001B[0m \u001B[38;5;28;01mimport\u001B[39;00m \u001B[38;5;21;01mpandas\u001B[39;00m \u001B[38;5;28;01mas\u001B[39;00m \u001B[38;5;21;01mpd\u001B[39;00m\n\u001B[0;32m      4\u001B[0m \u001B[38;5;28;01mimport\u001B[39;00m \u001B[38;5;21;01mtime\u001B[39;00m\n",
      "File \u001B[1;32m~\\Documents\\GitHub\\vivienda_cdmx\\vivienda_cdmx\\vivicdmx.py:13\u001B[0m\n\u001B[0;32m     11\u001B[0m \u001B[38;5;28;01mimport\u001B[39;00m \u001B[38;5;21;01mvivienda_cdmx\u001B[39;00m\u001B[38;5;21;01m.\u001B[39;00m\u001B[38;5;21;01mtools\u001B[39;00m\u001B[38;5;21;01m.\u001B[39;00m\u001B[38;5;21;01mtidytext\u001B[39;00m \u001B[38;5;28;01mas\u001B[39;00m \u001B[38;5;21;01mtt\u001B[39;00m\n\u001B[0;32m     12\u001B[0m \u001B[38;5;28;01mimport\u001B[39;00m \u001B[38;5;21;01mvivienda_cdmx\u001B[39;00m\u001B[38;5;21;01m.\u001B[39;00m\u001B[38;5;21;01mtools\u001B[39;00m\u001B[38;5;21;01m.\u001B[39;00m\u001B[38;5;21;01mtipo_cambio\u001B[39;00m \u001B[38;5;28;01mas\u001B[39;00m \u001B[38;5;21;01mtc\u001B[39;00m\n\u001B[1;32m---> 13\u001B[0m \u001B[38;5;28;01mimport\u001B[39;00m \u001B[38;5;21;01mvivienda_cdmx\u001B[39;00m\u001B[38;5;21;01m.\u001B[39;00m\u001B[38;5;21;01mtools\u001B[39;00m\u001B[38;5;21;01m.\u001B[39;00m\u001B[38;5;21;01mamenities\u001B[39;00m \u001B[38;5;28;01mas\u001B[39;00m \u001B[38;5;21;01mam\u001B[39;00m\n\u001B[0;32m     14\u001B[0m \u001B[38;5;28;01mfrom\u001B[39;00m \u001B[38;5;21;01mtqdm\u001B[39;00m \u001B[38;5;28;01mimport\u001B[39;00m tqdm\n\u001B[0;32m     16\u001B[0m headers \u001B[38;5;241m=\u001B[39m {\n\u001B[0;32m     17\u001B[0m     \u001B[38;5;124m'\u001B[39m\u001B[38;5;124mUser-Agent\u001B[39m\u001B[38;5;124m'\u001B[39m: \u001B[38;5;124m'\u001B[39m\u001B[38;5;124mMozilla/5.0 (Windows NT 10.0; Win64; x64) AppleWebKit/537.36 (KHTML, like Gecko) Chrome/87.0.4280.88 Safari/537.36\u001B[39m\u001B[38;5;124m'\u001B[39m}\n",
      "\u001B[1;31mModuleNotFoundError\u001B[0m: No module named 'vivienda_cdmx.tools.amenities'"
     ]
    }
   ],
   "source": [
    "#Importar librerías\n",
    "from vivienda_cdmx.vivicdmx import lamudi,easybroker\n",
    "import pandas as pd\n",
    "import time\n",
    "import random\n",
    "from matplotlib import pyplot as plt"
   ]
  },
  {
   "cell_type": "markdown",
   "metadata": {},
   "source": [
    "#### Scrapeo de datos de los portales inmobiliarios"
   ]
  },
  {
   "cell_type": "code",
   "execution_count": 3,
   "metadata": {
    "ExecuteTime": {
     "end_time": "2024-03-17T22:36:24.648033Z",
     "start_time": "2024-03-17T21:48:34.919033Z"
    }
   },
   "outputs": [
    {
     "name": "stdout",
     "output_type": "stream",
     "text": [
      "Proceso iniciado a las  15:48:34 del día 17/03/24\n"
     ]
    },
    {
     "name": "stderr",
     "output_type": "stream",
     "text": [
      "Scraping Goodlers:  50%|█████     | 3/6 [00:09<00:09,  3.32s/it]\n"
     ]
    },
    {
     "name": "stdout",
     "output_type": "stream",
     "text": [
      "Número de registros:  58\n",
      "Proceso terminado a las  15:57:48 del día 17/03/24\n",
      "--------------------------------------------------\n",
      "Proceso iniciado a las  15:57:49 del día 17/03/24\n"
     ]
    },
    {
     "name": "stderr",
     "output_type": "stream",
     "text": [
      "Scraping Easybroker: 100%|██████████| 100/100 [07:42<00:00,  4.63s/it]\n"
     ]
    },
    {
     "name": "stdout",
     "output_type": "stream",
     "text": [
      "Número de registros:  2042\n",
      "Proceso terminado a las  16:05:32 del día 17/03/24\n",
      "--------------------------------------------------\n",
      "Proceso iniciado a las  16:05:35 del día 17/03/24\n"
     ]
    },
    {
     "name": "stderr",
     "output_type": "stream",
     "text": [
      "Scraping Lamudi: 100%|██████████| 100/100 [05:39<00:00,  3.40s/it]\n"
     ]
    },
    {
     "name": "stdout",
     "output_type": "stream",
     "text": [
      "Número de registros:  5050\n",
      "Proceso terminado a las  16:11:49 del día 17/03/24\n",
      "--------------------------------------------------\n",
      "Proceso iniciado a las  16:11:51 del día 17/03/24\n"
     ]
    },
    {
     "name": "stderr",
     "output_type": "stream",
     "text": [
      "Scraping MetrosCubicos: 100%|██████████| 40/40 [03:36<00:00,  5.41s/it]\n"
     ]
    },
    {
     "name": "stdout",
     "output_type": "stream",
     "text": [
      "Número de registros:  6970\n",
      "Proceso terminado a las  16:15:38 del día 17/03/24\n",
      "--------------------------------------------------\n",
      "Proceso iniciado a las  16:15:40 del día 17/03/24\n"
     ]
    },
    {
     "name": "stderr",
     "output_type": "stream",
     "text": [
      "Scraping Inmuebles24: 100%|██████████| 70/70 [20:00<00:00, 17.16s/it]\n"
     ]
    },
    {
     "name": "stdout",
     "output_type": "stream",
     "text": [
      "Número de registros:  8363\n",
      "Proceso terminado a las  16:36:22 del día 17/03/24\n",
      "--------------------------------------------------\n"
     ]
    },
    {
     "data": {
      "text/plain": "                  desarrollador  \\\n0     Pedregales de Misné balám   \n1               KOBÁ Townhouses   \n2            Zensia Residencial   \n3         Kenatta Luxury Villas   \n4             Enuma Urban Homes   \n...                         ...   \n1388                        NaN   \n1389                        NaN   \n1390                        NaN   \n1391                        NaN   \n1392                        NaN   \n\n                                              oferta       fuente  \\\n0                               casas en misne balam     goodlers   \n1                townhouses y casas en temozon norte     goodlers   \n2                                    casas en conkal     goodlers   \n3                casas y townhouses en temozon norte     goodlers   \n4                             casas en temozon norte     goodlers   \n...                                              ...          ...   \n1388                            carrt. dzibilchaltun  inmuebles24   \n1389                                              71  inmuebles24   \n1390                            yucatan country club  inmuebles24   \n1391  calle 45 numero 544 la ciudadela ciudad caucel  inmuebles24   \n1392                                              43  inmuebles24   \n\n                 localidad  precio_min  precio_max             fecha_consulta  \\\n0                     None   1607000.0   3311170.0 2024-03-17 15:48:45.298945   \n1            temozon norte   3600000.0   3600000.0 2024-03-17 15:48:45.298945   \n2                     None   2360000.0   3040000.0 2024-03-17 15:48:45.298945   \n3            temozon norte   4500000.0   4500000.0 2024-03-17 15:48:45.298945   \n4            temozon norte   4329593.0   4927550.0 2024-03-17 15:48:45.298945   \n...                    ...         ...         ...                        ...   \n1388         dzibilchaltun         NaN         NaN 2024-03-17 16:36:18.423800   \n1389                  None         NaN         NaN 2024-03-17 16:36:18.423800   \n1390  yucatan country club         NaN         NaN 2024-03-17 16:36:18.423800   \n1391         ciudad caucel         NaN         NaN 2024-03-17 16:36:18.423800   \n1392                  None         NaN         NaN 2024-03-17 16:36:18.423800   \n\n            lat        lon      precio  ...  bedrooms  \\\n0     21.171149 -89.606722         NaN  ...       NaN   \n1     21.066644 -89.607698         NaN  ...       NaN   \n2     21.064648 -89.527726         NaN  ...       NaN   \n3     21.054118 -89.609704         NaN  ...       NaN   \n4     21.059675 -89.613845         NaN  ...       NaN   \n...         ...        ...         ...  ...       ...   \n1388        NaN        NaN   4187000.0  ...       NaN   \n1389        NaN        NaN   4990000.0  ...       NaN   \n1390        NaN        NaN  33150000.0  ...       NaN   \n1391        NaN        NaN   1400000.0  ...       NaN   \n1392        NaN        NaN   6000000.0  ...       NaN   \n\n                                            descripcion cochera alberca  \\\n0                                                   NaN     NaN     NaN   \n1                                                   NaN     NaN     NaN   \n2                                                   NaN     NaN     NaN   \n3                                                   NaN     NaN     NaN   \n4                                                   NaN     NaN     NaN   \n...                                                 ...     ...     ...   \n1388  Privada cerca del Country Club en una zona exc...     1.0     1.0   \n1389  Casa en venta en Temozon norte de 2 plantas ce...     0.0     1.0   \n1390  Yucatan Country Club está catalogada como la m...     0.0     1.0   \n1391  Haga suya esta casa de un solo nivel ubicada d...     0.0     0.0   \n1392  Casa Lu es una propiedad ubicada en uno de los...     0.0     1.0   \n\n     vigilancia paddle casa_club  privada  size  superficie  \n0           NaN    NaN       NaN      NaN   NaN         NaN  \n1           NaN    NaN       NaN      NaN   NaN         NaN  \n2           NaN    NaN       NaN      NaN   NaN         NaN  \n3           NaN    NaN       NaN      NaN   NaN         NaN  \n4           NaN    NaN       NaN      NaN   NaN         NaN  \n...         ...    ...       ...      ...   ...         ...  \n1388        1.0    0.0       1.0      1.0   NaN         136  \n1389        0.0    0.0       0.0      0.0   NaN         559  \n1390        0.0    0.0       1.0      0.0   NaN         610  \n1391        0.0    0.0       0.0      1.0   NaN         163  \n1392        0.0    0.0       0.0      0.0   NaN         266  \n\n[8363 rows x 25 columns]",
      "text/html": "<div>\n<style scoped>\n    .dataframe tbody tr th:only-of-type {\n        vertical-align: middle;\n    }\n\n    .dataframe tbody tr th {\n        vertical-align: top;\n    }\n\n    .dataframe thead th {\n        text-align: right;\n    }\n</style>\n<table border=\"1\" class=\"dataframe\">\n  <thead>\n    <tr style=\"text-align: right;\">\n      <th></th>\n      <th>desarrollador</th>\n      <th>oferta</th>\n      <th>fuente</th>\n      <th>localidad</th>\n      <th>precio_min</th>\n      <th>precio_max</th>\n      <th>fecha_consulta</th>\n      <th>lat</th>\n      <th>lon</th>\n      <th>precio</th>\n      <th>...</th>\n      <th>bedrooms</th>\n      <th>descripcion</th>\n      <th>cochera</th>\n      <th>alberca</th>\n      <th>vigilancia</th>\n      <th>paddle</th>\n      <th>casa_club</th>\n      <th>privada</th>\n      <th>size</th>\n      <th>superficie</th>\n    </tr>\n  </thead>\n  <tbody>\n    <tr>\n      <th>0</th>\n      <td>Pedregales de Misné balám</td>\n      <td>casas en misne balam</td>\n      <td>goodlers</td>\n      <td>None</td>\n      <td>1607000.0</td>\n      <td>3311170.0</td>\n      <td>2024-03-17 15:48:45.298945</td>\n      <td>21.171149</td>\n      <td>-89.606722</td>\n      <td>NaN</td>\n      <td>...</td>\n      <td>NaN</td>\n      <td>NaN</td>\n      <td>NaN</td>\n      <td>NaN</td>\n      <td>NaN</td>\n      <td>NaN</td>\n      <td>NaN</td>\n      <td>NaN</td>\n      <td>NaN</td>\n      <td>NaN</td>\n    </tr>\n    <tr>\n      <th>1</th>\n      <td>KOBÁ Townhouses</td>\n      <td>townhouses y casas en temozon norte</td>\n      <td>goodlers</td>\n      <td>temozon norte</td>\n      <td>3600000.0</td>\n      <td>3600000.0</td>\n      <td>2024-03-17 15:48:45.298945</td>\n      <td>21.066644</td>\n      <td>-89.607698</td>\n      <td>NaN</td>\n      <td>...</td>\n      <td>NaN</td>\n      <td>NaN</td>\n      <td>NaN</td>\n      <td>NaN</td>\n      <td>NaN</td>\n      <td>NaN</td>\n      <td>NaN</td>\n      <td>NaN</td>\n      <td>NaN</td>\n      <td>NaN</td>\n    </tr>\n    <tr>\n      <th>2</th>\n      <td>Zensia Residencial</td>\n      <td>casas en conkal</td>\n      <td>goodlers</td>\n      <td>None</td>\n      <td>2360000.0</td>\n      <td>3040000.0</td>\n      <td>2024-03-17 15:48:45.298945</td>\n      <td>21.064648</td>\n      <td>-89.527726</td>\n      <td>NaN</td>\n      <td>...</td>\n      <td>NaN</td>\n      <td>NaN</td>\n      <td>NaN</td>\n      <td>NaN</td>\n      <td>NaN</td>\n      <td>NaN</td>\n      <td>NaN</td>\n      <td>NaN</td>\n      <td>NaN</td>\n      <td>NaN</td>\n    </tr>\n    <tr>\n      <th>3</th>\n      <td>Kenatta Luxury Villas</td>\n      <td>casas y townhouses en temozon norte</td>\n      <td>goodlers</td>\n      <td>temozon norte</td>\n      <td>4500000.0</td>\n      <td>4500000.0</td>\n      <td>2024-03-17 15:48:45.298945</td>\n      <td>21.054118</td>\n      <td>-89.609704</td>\n      <td>NaN</td>\n      <td>...</td>\n      <td>NaN</td>\n      <td>NaN</td>\n      <td>NaN</td>\n      <td>NaN</td>\n      <td>NaN</td>\n      <td>NaN</td>\n      <td>NaN</td>\n      <td>NaN</td>\n      <td>NaN</td>\n      <td>NaN</td>\n    </tr>\n    <tr>\n      <th>4</th>\n      <td>Enuma Urban Homes</td>\n      <td>casas en temozon norte</td>\n      <td>goodlers</td>\n      <td>temozon norte</td>\n      <td>4329593.0</td>\n      <td>4927550.0</td>\n      <td>2024-03-17 15:48:45.298945</td>\n      <td>21.059675</td>\n      <td>-89.613845</td>\n      <td>NaN</td>\n      <td>...</td>\n      <td>NaN</td>\n      <td>NaN</td>\n      <td>NaN</td>\n      <td>NaN</td>\n      <td>NaN</td>\n      <td>NaN</td>\n      <td>NaN</td>\n      <td>NaN</td>\n      <td>NaN</td>\n      <td>NaN</td>\n    </tr>\n    <tr>\n      <th>...</th>\n      <td>...</td>\n      <td>...</td>\n      <td>...</td>\n      <td>...</td>\n      <td>...</td>\n      <td>...</td>\n      <td>...</td>\n      <td>...</td>\n      <td>...</td>\n      <td>...</td>\n      <td>...</td>\n      <td>...</td>\n      <td>...</td>\n      <td>...</td>\n      <td>...</td>\n      <td>...</td>\n      <td>...</td>\n      <td>...</td>\n      <td>...</td>\n      <td>...</td>\n      <td>...</td>\n    </tr>\n    <tr>\n      <th>1388</th>\n      <td>NaN</td>\n      <td>carrt. dzibilchaltun</td>\n      <td>inmuebles24</td>\n      <td>dzibilchaltun</td>\n      <td>NaN</td>\n      <td>NaN</td>\n      <td>2024-03-17 16:36:18.423800</td>\n      <td>NaN</td>\n      <td>NaN</td>\n      <td>4187000.0</td>\n      <td>...</td>\n      <td>NaN</td>\n      <td>Privada cerca del Country Club en una zona exc...</td>\n      <td>1.0</td>\n      <td>1.0</td>\n      <td>1.0</td>\n      <td>0.0</td>\n      <td>1.0</td>\n      <td>1.0</td>\n      <td>NaN</td>\n      <td>136</td>\n    </tr>\n    <tr>\n      <th>1389</th>\n      <td>NaN</td>\n      <td>71</td>\n      <td>inmuebles24</td>\n      <td>None</td>\n      <td>NaN</td>\n      <td>NaN</td>\n      <td>2024-03-17 16:36:18.423800</td>\n      <td>NaN</td>\n      <td>NaN</td>\n      <td>4990000.0</td>\n      <td>...</td>\n      <td>NaN</td>\n      <td>Casa en venta en Temozon norte de 2 plantas ce...</td>\n      <td>0.0</td>\n      <td>1.0</td>\n      <td>0.0</td>\n      <td>0.0</td>\n      <td>0.0</td>\n      <td>0.0</td>\n      <td>NaN</td>\n      <td>559</td>\n    </tr>\n    <tr>\n      <th>1390</th>\n      <td>NaN</td>\n      <td>yucatan country club</td>\n      <td>inmuebles24</td>\n      <td>yucatan country club</td>\n      <td>NaN</td>\n      <td>NaN</td>\n      <td>2024-03-17 16:36:18.423800</td>\n      <td>NaN</td>\n      <td>NaN</td>\n      <td>33150000.0</td>\n      <td>...</td>\n      <td>NaN</td>\n      <td>Yucatan Country Club está catalogada como la m...</td>\n      <td>0.0</td>\n      <td>1.0</td>\n      <td>0.0</td>\n      <td>0.0</td>\n      <td>1.0</td>\n      <td>0.0</td>\n      <td>NaN</td>\n      <td>610</td>\n    </tr>\n    <tr>\n      <th>1391</th>\n      <td>NaN</td>\n      <td>calle 45 numero 544 la ciudadela ciudad caucel</td>\n      <td>inmuebles24</td>\n      <td>ciudad caucel</td>\n      <td>NaN</td>\n      <td>NaN</td>\n      <td>2024-03-17 16:36:18.423800</td>\n      <td>NaN</td>\n      <td>NaN</td>\n      <td>1400000.0</td>\n      <td>...</td>\n      <td>NaN</td>\n      <td>Haga suya esta casa de un solo nivel ubicada d...</td>\n      <td>0.0</td>\n      <td>0.0</td>\n      <td>0.0</td>\n      <td>0.0</td>\n      <td>0.0</td>\n      <td>1.0</td>\n      <td>NaN</td>\n      <td>163</td>\n    </tr>\n    <tr>\n      <th>1392</th>\n      <td>NaN</td>\n      <td>43</td>\n      <td>inmuebles24</td>\n      <td>None</td>\n      <td>NaN</td>\n      <td>NaN</td>\n      <td>2024-03-17 16:36:18.423800</td>\n      <td>NaN</td>\n      <td>NaN</td>\n      <td>6000000.0</td>\n      <td>...</td>\n      <td>NaN</td>\n      <td>Casa Lu es una propiedad ubicada en uno de los...</td>\n      <td>0.0</td>\n      <td>1.0</td>\n      <td>0.0</td>\n      <td>0.0</td>\n      <td>0.0</td>\n      <td>0.0</td>\n      <td>NaN</td>\n      <td>266</td>\n    </tr>\n  </tbody>\n</table>\n<p>8363 rows × 25 columns</p>\n</div>"
     },
     "execution_count": 3,
     "metadata": {},
     "output_type": "execute_result"
    }
   ],
   "source": [
    "# Listado\n",
    "portales = [ easybroker, lamudi]\n",
    "# df vacía\n",
    "df = pd.DataFrame()\n",
    "\n",
    "# proceso de scrapeo\n",
    "for portal in portales:\n",
    "    try:\n",
    "        # Tiempo de inicio\n",
    "        print(\"Proceso iniciado a las \", time.strftime(\"%H:%M:%S\"),\"del día\", time.strftime(\"%d/%m/%y\"))\n",
    "        \n",
    "        # Ejecuta la función de scraping\n",
    "        df_portal = portal()  \n",
    "        df = pd.concat([df, df_portal])\n",
    "        \n",
    "        # Records\n",
    "        print(\"Número de registros: \", len(df))\n",
    "        \n",
    "    except Exception as e:\n",
    "        # Si ocurre un error, lo imprime\n",
    "        print(f\"Ocurrió un error: {e}\")\n",
    "    \n",
    "    finally:\n",
    "        \n",
    "        print(\"Proceso terminado a las \", time.strftime(\"%H:%M:%S\"),\"del día\", time.strftime(\"%d/%m/%y\"))\n",
    "        print(\"--------------------------------------------------\")\n",
    "        \n",
    "        # Sleep for a random time before the next iteration\n",
    "        time.sleep(random.randint(1, 3))\n",
    "\n",
    "    \n",
    "df"
   ]
  },
  {
   "cell_type": "code",
   "outputs": [
    {
     "data": {
      "text/plain": "array(['goodlers', 'easybroker', 'lamudi', 'metros_cubicos',\n       'inmuebles24'], dtype=object)"
     },
     "execution_count": 4,
     "metadata": {},
     "output_type": "execute_result"
    }
   ],
   "source": [
    "df[\"fuente\"].unique()"
   ],
   "metadata": {
    "collapsed": false,
    "ExecuteTime": {
     "end_time": "2024-03-17T22:36:24.663250Z",
     "start_time": "2024-03-17T22:36:24.651442Z"
    }
   },
   "execution_count": 4
  },
  {
   "cell_type": "code",
   "execution_count": 5,
   "metadata": {
    "ExecuteTime": {
     "end_time": "2024-03-17T22:36:40.402712Z",
     "start_time": "2024-03-17T22:36:24.666939Z"
    }
   },
   "outputs": [
    {
     "name": "stdout",
     "output_type": "stream",
     "text": [
      "Archivo actualizado con éxito\n"
     ]
    }
   ],
   "source": [
    "#Salvar datos sin limpiar\n",
    "df.to_csv(\"vivienda_yucatan_sucio.csv\",index=False,encoding=\"utf-8-sig\")\n",
    "push_request(df, \"viviyuca_sucia.csv\", \"Se envía scrapeo sucio\", \"data\")"
   ]
  },
  {
   "cell_type": "markdown",
   "metadata": {},
   "source": [
    "#### Limpieza de datos"
   ]
  },
  {
   "cell_type": "code",
   "execution_count": 6,
   "metadata": {
    "ExecuteTime": {
     "end_time": "2024-03-17T22:36:40.418328Z",
     "start_time": "2024-03-17T22:36:40.403286Z"
    }
   },
   "outputs": [],
   "source": [
    "def limpia_datos(df):\n",
    "    df = df.reset_index(drop=True)\n",
    "   \n",
    "    #Eliminar registros con precio 0 o nan\n",
    "    df=df[df['precio']>0]\n",
    "    df=df[df['precio'].notna()]\n",
    "    #Eliminar registros que en oferta contengan \"terreno\"\n",
    "    df=df[~df['oferta'].str.contains('terreno')]\n",
    "    df=df[~df['oferta'].str.contains('renta')]\n",
    "    df=df[~df['oferta'].str.contains('remodelar')]\n",
    "    df=df[~df['oferta'].str.contains('hectareas')]\n",
    "    #Si la fuente es goodlers, sacar el promedio de precio_min y precio_max y ponerlo en precio\n",
    "    #Eliminar registros con misma oferta y mismo precio\n",
    "    df=df.drop_duplicates(subset=['oferta','precio'],keep='first')\n",
    "\n",
    "    #Calcular precio por metro cuadrado\n",
    "    df['precio_m2'] = df['precio'] / df['mts_const']\n",
    "\n",
    "    return df"
   ]
  },
  {
   "cell_type": "code",
   "execution_count": 7,
   "metadata": {
    "ExecuteTime": {
     "end_time": "2024-03-17T22:36:40.480313Z",
     "start_time": "2024-03-17T22:36:40.419318Z"
    }
   },
   "outputs": [
    {
     "data": {
      "text/plain": "                  desarrollador  \\\n0     Pedregales de Misné balám   \n1               KOBÁ Townhouses   \n2            Zensia Residencial   \n3         Kenatta Luxury Villas   \n4             Enuma Urban Homes   \n...                         ...   \n8354                        NaN   \n8356                        NaN   \n8358                        NaN   \n8361                        NaN   \n8362                        NaN   \n\n                                                 oferta       fuente  \\\n0                                  casas en misne balam     goodlers   \n1                   townhouses y casas en temozon norte     goodlers   \n2                                       casas en conkal     goodlers   \n3                   casas y townhouses en temozon norte     goodlers   \n4                                casas en temozon norte     goodlers   \n...                                                 ...          ...   \n8354                                 pensiones vi etapa  inmuebles24   \n8356  venta de residencia de lujo killil en yucatan ...  inmuebles24   \n8358                               carrt. dzibilchaltun  inmuebles24   \n8361     calle 45 numero 544 la ciudadela ciudad caucel  inmuebles24   \n8362                                                 43  inmuebles24   \n\n                 localidad  precio_min  precio_max             fecha_consulta  \\\n0                     None   1607000.0   3311170.0 2024-03-17 15:48:45.298945   \n1            temozon norte   3600000.0   3600000.0 2024-03-17 15:48:45.298945   \n2                     None   2360000.0   3040000.0 2024-03-17 15:48:45.298945   \n3            temozon norte   4500000.0   4500000.0 2024-03-17 15:48:45.298945   \n4            temozon norte   4329593.0   4927550.0 2024-03-17 15:48:45.298945   \n...                    ...         ...         ...                        ...   \n8354             pensiones         NaN         NaN 2024-03-17 16:36:18.423800   \n8356  yucatan country club         NaN         NaN 2024-03-17 16:36:18.423800   \n8358         dzibilchaltun         NaN         NaN 2024-03-17 16:36:18.423800   \n8361         ciudad caucel         NaN         NaN 2024-03-17 16:36:18.423800   \n8362                  None         NaN         NaN 2024-03-17 16:36:18.423800   \n\n            lat        lon      precio  ...  cochera alberca vigilancia  \\\n0     21.171149 -89.606722   2459085.0  ...      NaN     NaN        NaN   \n1     21.066644 -89.607698   3600000.0  ...      NaN     NaN        NaN   \n2     21.064648 -89.527726   2700000.0  ...      NaN     NaN        NaN   \n3     21.054118 -89.609704   4500000.0  ...      NaN     NaN        NaN   \n4     21.059675 -89.613845   4628571.5  ...      NaN     NaN        NaN   \n...         ...        ...         ...  ...      ...     ...        ...   \n8354        NaN        NaN   2000000.0  ...      0.0     0.0        0.0   \n8356        NaN        NaN  33150000.0  ...      1.0     1.0        0.0   \n8358        NaN        NaN   4187000.0  ...      1.0     1.0        1.0   \n8361        NaN        NaN   1400000.0  ...      0.0     0.0        0.0   \n8362        NaN        NaN   6000000.0  ...      0.0     1.0        0.0   \n\n     paddle casa_club privada size  superficie                colloc  \\\n0       NaN       NaN     NaN  NaN         NaN                   NaN   \n1       NaN       NaN     NaN  NaN         NaN         temozon norte   \n2       NaN       NaN     NaN  NaN         NaN                   NaN   \n3       NaN       NaN     NaN  NaN         NaN         temozon norte   \n4       NaN       NaN     NaN  NaN         NaN         temozon norte   \n...     ...       ...     ...  ...         ...                   ...   \n8354    0.0       0.0     0.0  NaN         160             pensiones   \n8356    0.0       0.0     0.0  NaN         947  yucatan country club   \n8358    0.0       1.0     1.0  NaN         136         dzibilchaltun   \n8361    0.0       0.0     1.0  NaN         163         ciudad caucel   \n8362    0.0       0.0     0.0  NaN         266                   NaN   \n\n      precio_m2  \n0           NaN  \n1           NaN  \n2           NaN  \n3           NaN  \n4           NaN  \n...         ...  \n8354        NaN  \n8356        NaN  \n8358        NaN  \n8361        NaN  \n8362        NaN  \n\n[4399 rows x 27 columns]",
      "text/html": "<div>\n<style scoped>\n    .dataframe tbody tr th:only-of-type {\n        vertical-align: middle;\n    }\n\n    .dataframe tbody tr th {\n        vertical-align: top;\n    }\n\n    .dataframe thead th {\n        text-align: right;\n    }\n</style>\n<table border=\"1\" class=\"dataframe\">\n  <thead>\n    <tr style=\"text-align: right;\">\n      <th></th>\n      <th>desarrollador</th>\n      <th>oferta</th>\n      <th>fuente</th>\n      <th>localidad</th>\n      <th>precio_min</th>\n      <th>precio_max</th>\n      <th>fecha_consulta</th>\n      <th>lat</th>\n      <th>lon</th>\n      <th>precio</th>\n      <th>...</th>\n      <th>cochera</th>\n      <th>alberca</th>\n      <th>vigilancia</th>\n      <th>paddle</th>\n      <th>casa_club</th>\n      <th>privada</th>\n      <th>size</th>\n      <th>superficie</th>\n      <th>colloc</th>\n      <th>precio_m2</th>\n    </tr>\n  </thead>\n  <tbody>\n    <tr>\n      <th>0</th>\n      <td>Pedregales de Misné balám</td>\n      <td>casas en misne balam</td>\n      <td>goodlers</td>\n      <td>None</td>\n      <td>1607000.0</td>\n      <td>3311170.0</td>\n      <td>2024-03-17 15:48:45.298945</td>\n      <td>21.171149</td>\n      <td>-89.606722</td>\n      <td>2459085.0</td>\n      <td>...</td>\n      <td>NaN</td>\n      <td>NaN</td>\n      <td>NaN</td>\n      <td>NaN</td>\n      <td>NaN</td>\n      <td>NaN</td>\n      <td>NaN</td>\n      <td>NaN</td>\n      <td>NaN</td>\n      <td>NaN</td>\n    </tr>\n    <tr>\n      <th>1</th>\n      <td>KOBÁ Townhouses</td>\n      <td>townhouses y casas en temozon norte</td>\n      <td>goodlers</td>\n      <td>temozon norte</td>\n      <td>3600000.0</td>\n      <td>3600000.0</td>\n      <td>2024-03-17 15:48:45.298945</td>\n      <td>21.066644</td>\n      <td>-89.607698</td>\n      <td>3600000.0</td>\n      <td>...</td>\n      <td>NaN</td>\n      <td>NaN</td>\n      <td>NaN</td>\n      <td>NaN</td>\n      <td>NaN</td>\n      <td>NaN</td>\n      <td>NaN</td>\n      <td>NaN</td>\n      <td>temozon norte</td>\n      <td>NaN</td>\n    </tr>\n    <tr>\n      <th>2</th>\n      <td>Zensia Residencial</td>\n      <td>casas en conkal</td>\n      <td>goodlers</td>\n      <td>None</td>\n      <td>2360000.0</td>\n      <td>3040000.0</td>\n      <td>2024-03-17 15:48:45.298945</td>\n      <td>21.064648</td>\n      <td>-89.527726</td>\n      <td>2700000.0</td>\n      <td>...</td>\n      <td>NaN</td>\n      <td>NaN</td>\n      <td>NaN</td>\n      <td>NaN</td>\n      <td>NaN</td>\n      <td>NaN</td>\n      <td>NaN</td>\n      <td>NaN</td>\n      <td>NaN</td>\n      <td>NaN</td>\n    </tr>\n    <tr>\n      <th>3</th>\n      <td>Kenatta Luxury Villas</td>\n      <td>casas y townhouses en temozon norte</td>\n      <td>goodlers</td>\n      <td>temozon norte</td>\n      <td>4500000.0</td>\n      <td>4500000.0</td>\n      <td>2024-03-17 15:48:45.298945</td>\n      <td>21.054118</td>\n      <td>-89.609704</td>\n      <td>4500000.0</td>\n      <td>...</td>\n      <td>NaN</td>\n      <td>NaN</td>\n      <td>NaN</td>\n      <td>NaN</td>\n      <td>NaN</td>\n      <td>NaN</td>\n      <td>NaN</td>\n      <td>NaN</td>\n      <td>temozon norte</td>\n      <td>NaN</td>\n    </tr>\n    <tr>\n      <th>4</th>\n      <td>Enuma Urban Homes</td>\n      <td>casas en temozon norte</td>\n      <td>goodlers</td>\n      <td>temozon norte</td>\n      <td>4329593.0</td>\n      <td>4927550.0</td>\n      <td>2024-03-17 15:48:45.298945</td>\n      <td>21.059675</td>\n      <td>-89.613845</td>\n      <td>4628571.5</td>\n      <td>...</td>\n      <td>NaN</td>\n      <td>NaN</td>\n      <td>NaN</td>\n      <td>NaN</td>\n      <td>NaN</td>\n      <td>NaN</td>\n      <td>NaN</td>\n      <td>NaN</td>\n      <td>temozon norte</td>\n      <td>NaN</td>\n    </tr>\n    <tr>\n      <th>...</th>\n      <td>...</td>\n      <td>...</td>\n      <td>...</td>\n      <td>...</td>\n      <td>...</td>\n      <td>...</td>\n      <td>...</td>\n      <td>...</td>\n      <td>...</td>\n      <td>...</td>\n      <td>...</td>\n      <td>...</td>\n      <td>...</td>\n      <td>...</td>\n      <td>...</td>\n      <td>...</td>\n      <td>...</td>\n      <td>...</td>\n      <td>...</td>\n      <td>...</td>\n      <td>...</td>\n    </tr>\n    <tr>\n      <th>8354</th>\n      <td>NaN</td>\n      <td>pensiones vi etapa</td>\n      <td>inmuebles24</td>\n      <td>pensiones</td>\n      <td>NaN</td>\n      <td>NaN</td>\n      <td>2024-03-17 16:36:18.423800</td>\n      <td>NaN</td>\n      <td>NaN</td>\n      <td>2000000.0</td>\n      <td>...</td>\n      <td>0.0</td>\n      <td>0.0</td>\n      <td>0.0</td>\n      <td>0.0</td>\n      <td>0.0</td>\n      <td>0.0</td>\n      <td>NaN</td>\n      <td>160</td>\n      <td>pensiones</td>\n      <td>NaN</td>\n    </tr>\n    <tr>\n      <th>8356</th>\n      <td>NaN</td>\n      <td>venta de residencia de lujo killil en yucatan ...</td>\n      <td>inmuebles24</td>\n      <td>yucatan country club</td>\n      <td>NaN</td>\n      <td>NaN</td>\n      <td>2024-03-17 16:36:18.423800</td>\n      <td>NaN</td>\n      <td>NaN</td>\n      <td>33150000.0</td>\n      <td>...</td>\n      <td>1.0</td>\n      <td>1.0</td>\n      <td>0.0</td>\n      <td>0.0</td>\n      <td>0.0</td>\n      <td>0.0</td>\n      <td>NaN</td>\n      <td>947</td>\n      <td>yucatan country club</td>\n      <td>NaN</td>\n    </tr>\n    <tr>\n      <th>8358</th>\n      <td>NaN</td>\n      <td>carrt. dzibilchaltun</td>\n      <td>inmuebles24</td>\n      <td>dzibilchaltun</td>\n      <td>NaN</td>\n      <td>NaN</td>\n      <td>2024-03-17 16:36:18.423800</td>\n      <td>NaN</td>\n      <td>NaN</td>\n      <td>4187000.0</td>\n      <td>...</td>\n      <td>1.0</td>\n      <td>1.0</td>\n      <td>1.0</td>\n      <td>0.0</td>\n      <td>1.0</td>\n      <td>1.0</td>\n      <td>NaN</td>\n      <td>136</td>\n      <td>dzibilchaltun</td>\n      <td>NaN</td>\n    </tr>\n    <tr>\n      <th>8361</th>\n      <td>NaN</td>\n      <td>calle 45 numero 544 la ciudadela ciudad caucel</td>\n      <td>inmuebles24</td>\n      <td>ciudad caucel</td>\n      <td>NaN</td>\n      <td>NaN</td>\n      <td>2024-03-17 16:36:18.423800</td>\n      <td>NaN</td>\n      <td>NaN</td>\n      <td>1400000.0</td>\n      <td>...</td>\n      <td>0.0</td>\n      <td>0.0</td>\n      <td>0.0</td>\n      <td>0.0</td>\n      <td>0.0</td>\n      <td>1.0</td>\n      <td>NaN</td>\n      <td>163</td>\n      <td>ciudad caucel</td>\n      <td>NaN</td>\n    </tr>\n    <tr>\n      <th>8362</th>\n      <td>NaN</td>\n      <td>43</td>\n      <td>inmuebles24</td>\n      <td>None</td>\n      <td>NaN</td>\n      <td>NaN</td>\n      <td>2024-03-17 16:36:18.423800</td>\n      <td>NaN</td>\n      <td>NaN</td>\n      <td>6000000.0</td>\n      <td>...</td>\n      <td>0.0</td>\n      <td>1.0</td>\n      <td>0.0</td>\n      <td>0.0</td>\n      <td>0.0</td>\n      <td>0.0</td>\n      <td>NaN</td>\n      <td>266</td>\n      <td>NaN</td>\n      <td>NaN</td>\n    </tr>\n  </tbody>\n</table>\n<p>4399 rows × 27 columns</p>\n</div>"
     },
     "execution_count": 7,
     "metadata": {},
     "output_type": "execute_result"
    }
   ],
   "source": [
    "df_limpia=limpia_datos(df)\n",
    "df_limpia"
   ]
  },
  {
   "cell_type": "code",
   "execution_count": 8,
   "metadata": {
    "ExecuteTime": {
     "end_time": "2024-03-17T22:36:40.495285Z",
     "start_time": "2024-03-17T22:36:40.481558Z"
    }
   },
   "outputs": [
    {
     "name": "stdout",
     "output_type": "stream",
     "text": [
      "<class 'pandas.core.frame.DataFrame'>\n",
      "Index: 4399 entries, 0 to 8362\n",
      "Data columns (total 27 columns):\n",
      " #   Column          Non-Null Count  Dtype         \n",
      "---  ------          --------------  -----         \n",
      " 0   desarrollador   57 non-null     object        \n",
      " 1   oferta          4399 non-null   object        \n",
      " 2   fuente          4399 non-null   object        \n",
      " 3   localidad       2463 non-null   object        \n",
      " 4   precio_min      57 non-null     float64       \n",
      " 5   precio_max      57 non-null     float64       \n",
      " 6   fecha_consulta  4399 non-null   datetime64[ns]\n",
      " 7   lat             1620 non-null   object        \n",
      " 8   lon             1620 non-null   object        \n",
      " 9   precio          4399 non-null   float64       \n",
      " 10  mts_const       1487 non-null   float64       \n",
      " 11  direccion       23 non-null     object        \n",
      " 12  bathrooms       2488 non-null   object        \n",
      " 13  recamaras       2770 non-null   object        \n",
      " 14  colonia         1254 non-null   object        \n",
      " 15  bedrooms        1501 non-null   object        \n",
      " 16  descripcion     2532 non-null   object        \n",
      " 17  cochera         2532 non-null   float64       \n",
      " 18  alberca         2532 non-null   float64       \n",
      " 19  vigilancia      2532 non-null   float64       \n",
      " 20  paddle          2532 non-null   float64       \n",
      " 21  casa_club       2532 non-null   float64       \n",
      " 22  privada         2532 non-null   float64       \n",
      " 23  size            1786 non-null   float64       \n",
      " 24  superficie      984 non-null    object        \n",
      " 25  colloc          2561 non-null   object        \n",
      " 26  precio_m2       1487 non-null   float64       \n",
      "dtypes: datetime64[ns](1), float64(12), object(14)\n",
      "memory usage: 1.1+ MB\n"
     ]
    }
   ],
   "source": [
    "df_limpia.info()"
   ]
  }
 ],
 "metadata": {
  "kernelspec": {
   "display_name": "base",
   "language": "python",
   "name": "python3"
  },
  "language_info": {
   "codemirror_mode": {
    "name": "ipython",
    "version": 3
   },
   "file_extension": ".py",
   "mimetype": "text/x-python",
   "name": "python",
   "nbconvert_exporter": "python",
   "pygments_lexer": "ipython3",
   "version": "3.10.12"
  }
 },
 "nbformat": 4,
 "nbformat_minor": 2
}
