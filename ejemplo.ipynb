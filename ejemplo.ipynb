{
 "cells": [
  {
   "cell_type": "code",
   "execution_count": 1,
   "metadata": {
    "ExecuteTime": {
     "end_time": "2024-04-07T17:35:13.873145Z",
     "start_time": "2024-04-07T17:35:12.812963Z"
    }
   },
   "outputs": [],
   "source": [
    "#Importar librerías\n",
    "from vivienda_cdmx.vivicdmx import lamudi,easybroker\n",
    "import pandas as pd\n",
    "import time\n",
    "import random\n",
    "from matplotlib import pyplot as plt"
   ]
  },
  {
   "cell_type": "markdown",
   "metadata": {},
   "source": [
    "#### Scrapeo de datos de los portales inmobiliarios"
   ]
  },
  {
   "cell_type": "code",
   "execution_count": 2,
   "metadata": {
    "ExecuteTime": {
     "end_time": "2024-04-07T17:49:05.346259Z",
     "start_time": "2024-04-07T17:35:28.706571Z"
    }
   },
   "outputs": [
    {
     "name": "stdout",
     "output_type": "stream",
     "text": [
      "Proceso iniciado a las  11:35:28 del día 07/04/24\n"
     ]
    },
    {
     "name": "stderr",
     "output_type": "stream",
     "text": [
      "Scrapeando Easybroker: 100%|██████████| 100/100 [07:40<00:00,  4.60s/it]\n"
     ]
    },
    {
     "name": "stdout",
     "output_type": "stream",
     "text": [
      "Número de registros:  2375\n",
      "Proceso terminado a las  11:43:09 del día 07/04/24\n",
      "--------------------------------------------------\n",
      "Proceso iniciado a las  11:43:11 del día 07/04/24\n"
     ]
    },
    {
     "name": "stderr",
     "output_type": "stream",
     "text": [
      "Scrapeando Lamudi: 100%|██████████| 100/100 [05:51<00:00,  3.51s/it]\n"
     ]
    },
    {
     "name": "stdout",
     "output_type": "stream",
     "text": [
      "Ocurrió un error: expected string or bytes-like object\n",
      "Proceso terminado a las  11:49:02 del día 07/04/24\n",
      "--------------------------------------------------\n"
     ]
    },
    {
     "data": {
      "text/plain": "                                                 oferta       precio  \\\n0     jardines del pedregal residencia de lujo con e...  44500000.00   \n1                casa en venta en jardines del pedregal  25000000.00   \n2            casa ubicada en el triangulo dorado  4 rec  39541920.00   \n3     venta casa en panamericana  gustavo a. madero ...   4200000.00   \n4                                   como terreno 467 m2  60000000.00   \n...                                                 ...          ...   \n2370        casa en condominio y calle cerrada en venta  55000000.00   \n2371                  casa sola en venta en el pedregal  27500000.00   \n2372  casa en venta 4 recamaras en calle cerrada arq...  32500000.00   \n2373  super oportunidad baja de precio casa en lomas...   9480000.00   \n2374           preciosa casa ubicadisima  y en  privada  47776524.84   \n\n      mts_const                                          direccion  bathrooms  \\\n0         988.0      Casa en Jardines del Pedregal, Álvaro Obregón        5.0   \n1         640.0      Casa en Jardines del Pedregal, Álvaro Obregón        4.0   \n2         630.0       Casa en Lomas de Chapultepec, Miguel Hidalgo        4.0   \n3         280.0  Casa en Ampliación Panamericana, Gustavo A. Ma...        2.0   \n4         435.0                    Casa en Polanco, Miguel Hidalgo        4.0   \n...         ...                                                ...        ...   \n2370      950.0      Casa en Jardines del Pedregal, Álvaro Obregón        3.0   \n2371      746.0      Casa en Jardines del Pedregal, Álvaro Obregón        5.0   \n2372      656.0      Casa en Jardines del Pedregal, Álvaro Obregón        4.0   \n2373      361.0  Casa en San Jerónimo Lídice, La Magdalena Cont...        3.0   \n2374      600.0       Casa en Lomas de Chapultepec, Miguel Hidalgo        3.0   \n\n      recamaras            lat             lon      fuente  \\\n0           5.0     19.3173164     -99.2032124  easybroker   \n1           5.0     19.3285645     -99.2001782  easybroker   \n2           4.0     19.4249374     -99.2134442  easybroker   \n3           5.0      19.520674     -99.1493664  easybroker   \n4           4.0  19.4356762643  -99.1987753003  easybroker   \n...         ...            ...             ...         ...   \n2370        3.0     19.3309303     -99.2052473  easybroker   \n2371        5.0     19.3177586     -99.1992804  easybroker   \n2372        4.0     19.3283277     -99.2025838  easybroker   \n2373        3.0     19.3209194     -99.2364104  easybroker   \n2374        3.0     19.4249374     -99.2134442  easybroker   \n\n                 fecha_consulta  \n0    2024-04-07 11:43:09.083540  \n1    2024-04-07 11:43:09.083540  \n2    2024-04-07 11:43:09.083540  \n3    2024-04-07 11:43:09.083540  \n4    2024-04-07 11:43:09.083540  \n...                         ...  \n2370 2024-04-07 11:43:09.083540  \n2371 2024-04-07 11:43:09.083540  \n2372 2024-04-07 11:43:09.083540  \n2373 2024-04-07 11:43:09.083540  \n2374 2024-04-07 11:43:09.083540  \n\n[2375 rows x 10 columns]",
      "text/html": "<div>\n<style scoped>\n    .dataframe tbody tr th:only-of-type {\n        vertical-align: middle;\n    }\n\n    .dataframe tbody tr th {\n        vertical-align: top;\n    }\n\n    .dataframe thead th {\n        text-align: right;\n    }\n</style>\n<table border=\"1\" class=\"dataframe\">\n  <thead>\n    <tr style=\"text-align: right;\">\n      <th></th>\n      <th>oferta</th>\n      <th>precio</th>\n      <th>mts_const</th>\n      <th>direccion</th>\n      <th>bathrooms</th>\n      <th>recamaras</th>\n      <th>lat</th>\n      <th>lon</th>\n      <th>fuente</th>\n      <th>fecha_consulta</th>\n    </tr>\n  </thead>\n  <tbody>\n    <tr>\n      <th>0</th>\n      <td>jardines del pedregal residencia de lujo con e...</td>\n      <td>44500000.00</td>\n      <td>988.0</td>\n      <td>Casa en Jardines del Pedregal, Álvaro Obregón</td>\n      <td>5.0</td>\n      <td>5.0</td>\n      <td>19.3173164</td>\n      <td>-99.2032124</td>\n      <td>easybroker</td>\n      <td>2024-04-07 11:43:09.083540</td>\n    </tr>\n    <tr>\n      <th>1</th>\n      <td>casa en venta en jardines del pedregal</td>\n      <td>25000000.00</td>\n      <td>640.0</td>\n      <td>Casa en Jardines del Pedregal, Álvaro Obregón</td>\n      <td>4.0</td>\n      <td>5.0</td>\n      <td>19.3285645</td>\n      <td>-99.2001782</td>\n      <td>easybroker</td>\n      <td>2024-04-07 11:43:09.083540</td>\n    </tr>\n    <tr>\n      <th>2</th>\n      <td>casa ubicada en el triangulo dorado  4 rec</td>\n      <td>39541920.00</td>\n      <td>630.0</td>\n      <td>Casa en Lomas de Chapultepec, Miguel Hidalgo</td>\n      <td>4.0</td>\n      <td>4.0</td>\n      <td>19.4249374</td>\n      <td>-99.2134442</td>\n      <td>easybroker</td>\n      <td>2024-04-07 11:43:09.083540</td>\n    </tr>\n    <tr>\n      <th>3</th>\n      <td>venta casa en panamericana  gustavo a. madero ...</td>\n      <td>4200000.00</td>\n      <td>280.0</td>\n      <td>Casa en Ampliación Panamericana, Gustavo A. Ma...</td>\n      <td>2.0</td>\n      <td>5.0</td>\n      <td>19.520674</td>\n      <td>-99.1493664</td>\n      <td>easybroker</td>\n      <td>2024-04-07 11:43:09.083540</td>\n    </tr>\n    <tr>\n      <th>4</th>\n      <td>como terreno 467 m2</td>\n      <td>60000000.00</td>\n      <td>435.0</td>\n      <td>Casa en Polanco, Miguel Hidalgo</td>\n      <td>4.0</td>\n      <td>4.0</td>\n      <td>19.4356762643</td>\n      <td>-99.1987753003</td>\n      <td>easybroker</td>\n      <td>2024-04-07 11:43:09.083540</td>\n    </tr>\n    <tr>\n      <th>...</th>\n      <td>...</td>\n      <td>...</td>\n      <td>...</td>\n      <td>...</td>\n      <td>...</td>\n      <td>...</td>\n      <td>...</td>\n      <td>...</td>\n      <td>...</td>\n      <td>...</td>\n    </tr>\n    <tr>\n      <th>2370</th>\n      <td>casa en condominio y calle cerrada en venta</td>\n      <td>55000000.00</td>\n      <td>950.0</td>\n      <td>Casa en Jardines del Pedregal, Álvaro Obregón</td>\n      <td>3.0</td>\n      <td>3.0</td>\n      <td>19.3309303</td>\n      <td>-99.2052473</td>\n      <td>easybroker</td>\n      <td>2024-04-07 11:43:09.083540</td>\n    </tr>\n    <tr>\n      <th>2371</th>\n      <td>casa sola en venta en el pedregal</td>\n      <td>27500000.00</td>\n      <td>746.0</td>\n      <td>Casa en Jardines del Pedregal, Álvaro Obregón</td>\n      <td>5.0</td>\n      <td>5.0</td>\n      <td>19.3177586</td>\n      <td>-99.1992804</td>\n      <td>easybroker</td>\n      <td>2024-04-07 11:43:09.083540</td>\n    </tr>\n    <tr>\n      <th>2372</th>\n      <td>casa en venta 4 recamaras en calle cerrada arq...</td>\n      <td>32500000.00</td>\n      <td>656.0</td>\n      <td>Casa en Jardines del Pedregal, Álvaro Obregón</td>\n      <td>4.0</td>\n      <td>4.0</td>\n      <td>19.3283277</td>\n      <td>-99.2025838</td>\n      <td>easybroker</td>\n      <td>2024-04-07 11:43:09.083540</td>\n    </tr>\n    <tr>\n      <th>2373</th>\n      <td>super oportunidad baja de precio casa en lomas...</td>\n      <td>9480000.00</td>\n      <td>361.0</td>\n      <td>Casa en San Jerónimo Lídice, La Magdalena Cont...</td>\n      <td>3.0</td>\n      <td>3.0</td>\n      <td>19.3209194</td>\n      <td>-99.2364104</td>\n      <td>easybroker</td>\n      <td>2024-04-07 11:43:09.083540</td>\n    </tr>\n    <tr>\n      <th>2374</th>\n      <td>preciosa casa ubicadisima  y en  privada</td>\n      <td>47776524.84</td>\n      <td>600.0</td>\n      <td>Casa en Lomas de Chapultepec, Miguel Hidalgo</td>\n      <td>3.0</td>\n      <td>3.0</td>\n      <td>19.4249374</td>\n      <td>-99.2134442</td>\n      <td>easybroker</td>\n      <td>2024-04-07 11:43:09.083540</td>\n    </tr>\n  </tbody>\n</table>\n<p>2375 rows × 10 columns</p>\n</div>"
     },
     "execution_count": 2,
     "metadata": {},
     "output_type": "execute_result"
    }
   ],
   "source": [
    "# Listado\n",
    "portales = [ easybroker, lamudi]\n",
    "# df vacía\n",
    "df = pd.DataFrame()\n",
    "\n",
    "# proceso de scrapeo\n",
    "for portal in portales:\n",
    "    try:\n",
    "        # Tiempo de inicio\n",
    "        print(\"Proceso iniciado a las \", time.strftime(\"%H:%M:%S\"),\"del día\", time.strftime(\"%d/%m/%y\"))\n",
    "        \n",
    "        # Ejecuta la función de scraping\n",
    "        df_portal = portal()  \n",
    "        df = pd.concat([df, df_portal])\n",
    "        \n",
    "        # Records\n",
    "        print(\"Número de registros: \", len(df))\n",
    "        \n",
    "    except Exception as e:\n",
    "        # Si ocurre un error, lo imprime\n",
    "        print(f\"Ocurrió un error: {e}\")\n",
    "    \n",
    "    finally:\n",
    "        \n",
    "        print(\"Proceso terminado a las \", time.strftime(\"%H:%M:%S\"),\"del día\", time.strftime(\"%d/%m/%y\"))\n",
    "        print(\"--------------------------------------------------\")\n",
    "        \n",
    "        # Sleep for a random time before the next iteration\n",
    "        time.sleep(random.randint(1, 3))\n",
    "\n",
    "    \n",
    "df"
   ]
  },
  {
   "cell_type": "code",
   "outputs": [
    {
     "data": {
      "text/plain": "array(['easybroker'], dtype=object)"
     },
     "execution_count": 3,
     "metadata": {},
     "output_type": "execute_result"
    }
   ],
   "source": [
    "df[\"fuente\"].unique()"
   ],
   "metadata": {
    "collapsed": false,
    "ExecuteTime": {
     "end_time": "2024-04-07T18:04:14.004649Z",
     "start_time": "2024-04-07T18:04:13.992013Z"
    }
   },
   "execution_count": 3
  },
  {
   "cell_type": "code",
   "execution_count": 5,
   "metadata": {
    "ExecuteTime": {
     "end_time": "2024-03-17T22:36:40.402712Z",
     "start_time": "2024-03-17T22:36:24.666939Z"
    }
   },
   "outputs": [
    {
     "name": "stdout",
     "output_type": "stream",
     "text": [
      "Archivo actualizado con éxito\n"
     ]
    }
   ],
   "source": [
    "#Salvar datos sin limpiar\n",
    "df.to_csv(\"vivienda_yucatan_sucio.csv\",index=False,encoding=\"utf-8-sig\")\n",
    "push_request(df, \"viviyuca_sucia.csv\", \"Se envía scrapeo sucio\", \"data\")"
   ]
  },
  {
   "cell_type": "markdown",
   "metadata": {},
   "source": [
    "#### Limpieza de datos"
   ]
  },
  {
   "cell_type": "code",
   "execution_count": 6,
   "metadata": {
    "ExecuteTime": {
     "end_time": "2024-03-17T22:36:40.418328Z",
     "start_time": "2024-03-17T22:36:40.403286Z"
    }
   },
   "outputs": [],
   "source": [
    "def limpia_datos(df):\n",
    "    df = df.reset_index(drop=True)\n",
    "   \n",
    "    #Eliminar registros con precio 0 o nan\n",
    "    df=df[df['precio']>0]\n",
    "    df=df[df['precio'].notna()]\n",
    "    #Eliminar registros que en oferta contengan \"terreno\"\n",
    "    df=df[~df['oferta'].str.contains('terreno')]\n",
    "    df=df[~df['oferta'].str.contains('renta')]\n",
    "    df=df[~df['oferta'].str.contains('remodelar')]\n",
    "    df=df[~df['oferta'].str.contains('hectareas')]\n",
    "    #Si la fuente es goodlers, sacar el promedio de precio_min y precio_max y ponerlo en precio\n",
    "    #Eliminar registros con misma oferta y mismo precio\n",
    "    df=df.drop_duplicates(subset=['oferta','precio'],keep='first')\n",
    "\n",
    "    #Calcular precio por metro cuadrado\n",
    "    df['precio_m2'] = df['precio'] / df['mts_const']\n",
    "\n",
    "    return df"
   ]
  },
  {
   "cell_type": "code",
   "execution_count": 7,
   "metadata": {
    "ExecuteTime": {
     "end_time": "2024-03-17T22:36:40.480313Z",
     "start_time": "2024-03-17T22:36:40.419318Z"
    }
   },
   "outputs": [
    {
     "data": {
      "text/plain": "                  desarrollador  \\\n0     Pedregales de Misné balám   \n1               KOBÁ Townhouses   \n2            Zensia Residencial   \n3         Kenatta Luxury Villas   \n4             Enuma Urban Homes   \n...                         ...   \n8354                        NaN   \n8356                        NaN   \n8358                        NaN   \n8361                        NaN   \n8362                        NaN   \n\n                                                 oferta       fuente  \\\n0                                  casas en misne balam     goodlers   \n1                   townhouses y casas en temozon norte     goodlers   \n2                                       casas en conkal     goodlers   \n3                   casas y townhouses en temozon norte     goodlers   \n4                                casas en temozon norte     goodlers   \n...                                                 ...          ...   \n8354                                 pensiones vi etapa  inmuebles24   \n8356  venta de residencia de lujo killil en yucatan ...  inmuebles24   \n8358                               carrt. dzibilchaltun  inmuebles24   \n8361     calle 45 numero 544 la ciudadela ciudad caucel  inmuebles24   \n8362                                                 43  inmuebles24   \n\n                 localidad  precio_min  precio_max             fecha_consulta  \\\n0                     None   1607000.0   3311170.0 2024-03-17 15:48:45.298945   \n1            temozon norte   3600000.0   3600000.0 2024-03-17 15:48:45.298945   \n2                     None   2360000.0   3040000.0 2024-03-17 15:48:45.298945   \n3            temozon norte   4500000.0   4500000.0 2024-03-17 15:48:45.298945   \n4            temozon norte   4329593.0   4927550.0 2024-03-17 15:48:45.298945   \n...                    ...         ...         ...                        ...   \n8354             pensiones         NaN         NaN 2024-03-17 16:36:18.423800   \n8356  yucatan country club         NaN         NaN 2024-03-17 16:36:18.423800   \n8358         dzibilchaltun         NaN         NaN 2024-03-17 16:36:18.423800   \n8361         ciudad caucel         NaN         NaN 2024-03-17 16:36:18.423800   \n8362                  None         NaN         NaN 2024-03-17 16:36:18.423800   \n\n            lat        lon      precio  ...  cochera alberca vigilancia  \\\n0     21.171149 -89.606722   2459085.0  ...      NaN     NaN        NaN   \n1     21.066644 -89.607698   3600000.0  ...      NaN     NaN        NaN   \n2     21.064648 -89.527726   2700000.0  ...      NaN     NaN        NaN   \n3     21.054118 -89.609704   4500000.0  ...      NaN     NaN        NaN   \n4     21.059675 -89.613845   4628571.5  ...      NaN     NaN        NaN   \n...         ...        ...         ...  ...      ...     ...        ...   \n8354        NaN        NaN   2000000.0  ...      0.0     0.0        0.0   \n8356        NaN        NaN  33150000.0  ...      1.0     1.0        0.0   \n8358        NaN        NaN   4187000.0  ...      1.0     1.0        1.0   \n8361        NaN        NaN   1400000.0  ...      0.0     0.0        0.0   \n8362        NaN        NaN   6000000.0  ...      0.0     1.0        0.0   \n\n     paddle casa_club privada size  superficie                colloc  \\\n0       NaN       NaN     NaN  NaN         NaN                   NaN   \n1       NaN       NaN     NaN  NaN         NaN         temozon norte   \n2       NaN       NaN     NaN  NaN         NaN                   NaN   \n3       NaN       NaN     NaN  NaN         NaN         temozon norte   \n4       NaN       NaN     NaN  NaN         NaN         temozon norte   \n...     ...       ...     ...  ...         ...                   ...   \n8354    0.0       0.0     0.0  NaN         160             pensiones   \n8356    0.0       0.0     0.0  NaN         947  yucatan country club   \n8358    0.0       1.0     1.0  NaN         136         dzibilchaltun   \n8361    0.0       0.0     1.0  NaN         163         ciudad caucel   \n8362    0.0       0.0     0.0  NaN         266                   NaN   \n\n      precio_m2  \n0           NaN  \n1           NaN  \n2           NaN  \n3           NaN  \n4           NaN  \n...         ...  \n8354        NaN  \n8356        NaN  \n8358        NaN  \n8361        NaN  \n8362        NaN  \n\n[4399 rows x 27 columns]",
      "text/html": "<div>\n<style scoped>\n    .dataframe tbody tr th:only-of-type {\n        vertical-align: middle;\n    }\n\n    .dataframe tbody tr th {\n        vertical-align: top;\n    }\n\n    .dataframe thead th {\n        text-align: right;\n    }\n</style>\n<table border=\"1\" class=\"dataframe\">\n  <thead>\n    <tr style=\"text-align: right;\">\n      <th></th>\n      <th>desarrollador</th>\n      <th>oferta</th>\n      <th>fuente</th>\n      <th>localidad</th>\n      <th>precio_min</th>\n      <th>precio_max</th>\n      <th>fecha_consulta</th>\n      <th>lat</th>\n      <th>lon</th>\n      <th>precio</th>\n      <th>...</th>\n      <th>cochera</th>\n      <th>alberca</th>\n      <th>vigilancia</th>\n      <th>paddle</th>\n      <th>casa_club</th>\n      <th>privada</th>\n      <th>size</th>\n      <th>superficie</th>\n      <th>colloc</th>\n      <th>precio_m2</th>\n    </tr>\n  </thead>\n  <tbody>\n    <tr>\n      <th>0</th>\n      <td>Pedregales de Misné balám</td>\n      <td>casas en misne balam</td>\n      <td>goodlers</td>\n      <td>None</td>\n      <td>1607000.0</td>\n      <td>3311170.0</td>\n      <td>2024-03-17 15:48:45.298945</td>\n      <td>21.171149</td>\n      <td>-89.606722</td>\n      <td>2459085.0</td>\n      <td>...</td>\n      <td>NaN</td>\n      <td>NaN</td>\n      <td>NaN</td>\n      <td>NaN</td>\n      <td>NaN</td>\n      <td>NaN</td>\n      <td>NaN</td>\n      <td>NaN</td>\n      <td>NaN</td>\n      <td>NaN</td>\n    </tr>\n    <tr>\n      <th>1</th>\n      <td>KOBÁ Townhouses</td>\n      <td>townhouses y casas en temozon norte</td>\n      <td>goodlers</td>\n      <td>temozon norte</td>\n      <td>3600000.0</td>\n      <td>3600000.0</td>\n      <td>2024-03-17 15:48:45.298945</td>\n      <td>21.066644</td>\n      <td>-89.607698</td>\n      <td>3600000.0</td>\n      <td>...</td>\n      <td>NaN</td>\n      <td>NaN</td>\n      <td>NaN</td>\n      <td>NaN</td>\n      <td>NaN</td>\n      <td>NaN</td>\n      <td>NaN</td>\n      <td>NaN</td>\n      <td>temozon norte</td>\n      <td>NaN</td>\n    </tr>\n    <tr>\n      <th>2</th>\n      <td>Zensia Residencial</td>\n      <td>casas en conkal</td>\n      <td>goodlers</td>\n      <td>None</td>\n      <td>2360000.0</td>\n      <td>3040000.0</td>\n      <td>2024-03-17 15:48:45.298945</td>\n      <td>21.064648</td>\n      <td>-89.527726</td>\n      <td>2700000.0</td>\n      <td>...</td>\n      <td>NaN</td>\n      <td>NaN</td>\n      <td>NaN</td>\n      <td>NaN</td>\n      <td>NaN</td>\n      <td>NaN</td>\n      <td>NaN</td>\n      <td>NaN</td>\n      <td>NaN</td>\n      <td>NaN</td>\n    </tr>\n    <tr>\n      <th>3</th>\n      <td>Kenatta Luxury Villas</td>\n      <td>casas y townhouses en temozon norte</td>\n      <td>goodlers</td>\n      <td>temozon norte</td>\n      <td>4500000.0</td>\n      <td>4500000.0</td>\n      <td>2024-03-17 15:48:45.298945</td>\n      <td>21.054118</td>\n      <td>-89.609704</td>\n      <td>4500000.0</td>\n      <td>...</td>\n      <td>NaN</td>\n      <td>NaN</td>\n      <td>NaN</td>\n      <td>NaN</td>\n      <td>NaN</td>\n      <td>NaN</td>\n      <td>NaN</td>\n      <td>NaN</td>\n      <td>temozon norte</td>\n      <td>NaN</td>\n    </tr>\n    <tr>\n      <th>4</th>\n      <td>Enuma Urban Homes</td>\n      <td>casas en temozon norte</td>\n      <td>goodlers</td>\n      <td>temozon norte</td>\n      <td>4329593.0</td>\n      <td>4927550.0</td>\n      <td>2024-03-17 15:48:45.298945</td>\n      <td>21.059675</td>\n      <td>-89.613845</td>\n      <td>4628571.5</td>\n      <td>...</td>\n      <td>NaN</td>\n      <td>NaN</td>\n      <td>NaN</td>\n      <td>NaN</td>\n      <td>NaN</td>\n      <td>NaN</td>\n      <td>NaN</td>\n      <td>NaN</td>\n      <td>temozon norte</td>\n      <td>NaN</td>\n    </tr>\n    <tr>\n      <th>...</th>\n      <td>...</td>\n      <td>...</td>\n      <td>...</td>\n      <td>...</td>\n      <td>...</td>\n      <td>...</td>\n      <td>...</td>\n      <td>...</td>\n      <td>...</td>\n      <td>...</td>\n      <td>...</td>\n      <td>...</td>\n      <td>...</td>\n      <td>...</td>\n      <td>...</td>\n      <td>...</td>\n      <td>...</td>\n      <td>...</td>\n      <td>...</td>\n      <td>...</td>\n      <td>...</td>\n    </tr>\n    <tr>\n      <th>8354</th>\n      <td>NaN</td>\n      <td>pensiones vi etapa</td>\n      <td>inmuebles24</td>\n      <td>pensiones</td>\n      <td>NaN</td>\n      <td>NaN</td>\n      <td>2024-03-17 16:36:18.423800</td>\n      <td>NaN</td>\n      <td>NaN</td>\n      <td>2000000.0</td>\n      <td>...</td>\n      <td>0.0</td>\n      <td>0.0</td>\n      <td>0.0</td>\n      <td>0.0</td>\n      <td>0.0</td>\n      <td>0.0</td>\n      <td>NaN</td>\n      <td>160</td>\n      <td>pensiones</td>\n      <td>NaN</td>\n    </tr>\n    <tr>\n      <th>8356</th>\n      <td>NaN</td>\n      <td>venta de residencia de lujo killil en yucatan ...</td>\n      <td>inmuebles24</td>\n      <td>yucatan country club</td>\n      <td>NaN</td>\n      <td>NaN</td>\n      <td>2024-03-17 16:36:18.423800</td>\n      <td>NaN</td>\n      <td>NaN</td>\n      <td>33150000.0</td>\n      <td>...</td>\n      <td>1.0</td>\n      <td>1.0</td>\n      <td>0.0</td>\n      <td>0.0</td>\n      <td>0.0</td>\n      <td>0.0</td>\n      <td>NaN</td>\n      <td>947</td>\n      <td>yucatan country club</td>\n      <td>NaN</td>\n    </tr>\n    <tr>\n      <th>8358</th>\n      <td>NaN</td>\n      <td>carrt. dzibilchaltun</td>\n      <td>inmuebles24</td>\n      <td>dzibilchaltun</td>\n      <td>NaN</td>\n      <td>NaN</td>\n      <td>2024-03-17 16:36:18.423800</td>\n      <td>NaN</td>\n      <td>NaN</td>\n      <td>4187000.0</td>\n      <td>...</td>\n      <td>1.0</td>\n      <td>1.0</td>\n      <td>1.0</td>\n      <td>0.0</td>\n      <td>1.0</td>\n      <td>1.0</td>\n      <td>NaN</td>\n      <td>136</td>\n      <td>dzibilchaltun</td>\n      <td>NaN</td>\n    </tr>\n    <tr>\n      <th>8361</th>\n      <td>NaN</td>\n      <td>calle 45 numero 544 la ciudadela ciudad caucel</td>\n      <td>inmuebles24</td>\n      <td>ciudad caucel</td>\n      <td>NaN</td>\n      <td>NaN</td>\n      <td>2024-03-17 16:36:18.423800</td>\n      <td>NaN</td>\n      <td>NaN</td>\n      <td>1400000.0</td>\n      <td>...</td>\n      <td>0.0</td>\n      <td>0.0</td>\n      <td>0.0</td>\n      <td>0.0</td>\n      <td>0.0</td>\n      <td>1.0</td>\n      <td>NaN</td>\n      <td>163</td>\n      <td>ciudad caucel</td>\n      <td>NaN</td>\n    </tr>\n    <tr>\n      <th>8362</th>\n      <td>NaN</td>\n      <td>43</td>\n      <td>inmuebles24</td>\n      <td>None</td>\n      <td>NaN</td>\n      <td>NaN</td>\n      <td>2024-03-17 16:36:18.423800</td>\n      <td>NaN</td>\n      <td>NaN</td>\n      <td>6000000.0</td>\n      <td>...</td>\n      <td>0.0</td>\n      <td>1.0</td>\n      <td>0.0</td>\n      <td>0.0</td>\n      <td>0.0</td>\n      <td>0.0</td>\n      <td>NaN</td>\n      <td>266</td>\n      <td>NaN</td>\n      <td>NaN</td>\n    </tr>\n  </tbody>\n</table>\n<p>4399 rows × 27 columns</p>\n</div>"
     },
     "execution_count": 7,
     "metadata": {},
     "output_type": "execute_result"
    }
   ],
   "source": [
    "df_limpia=limpia_datos(df)\n",
    "df_limpia"
   ]
  },
  {
   "cell_type": "code",
   "execution_count": 8,
   "metadata": {
    "ExecuteTime": {
     "end_time": "2024-03-17T22:36:40.495285Z",
     "start_time": "2024-03-17T22:36:40.481558Z"
    }
   },
   "outputs": [
    {
     "name": "stdout",
     "output_type": "stream",
     "text": [
      "<class 'pandas.core.frame.DataFrame'>\n",
      "Index: 4399 entries, 0 to 8362\n",
      "Data columns (total 27 columns):\n",
      " #   Column          Non-Null Count  Dtype         \n",
      "---  ------          --------------  -----         \n",
      " 0   desarrollador   57 non-null     object        \n",
      " 1   oferta          4399 non-null   object        \n",
      " 2   fuente          4399 non-null   object        \n",
      " 3   localidad       2463 non-null   object        \n",
      " 4   precio_min      57 non-null     float64       \n",
      " 5   precio_max      57 non-null     float64       \n",
      " 6   fecha_consulta  4399 non-null   datetime64[ns]\n",
      " 7   lat             1620 non-null   object        \n",
      " 8   lon             1620 non-null   object        \n",
      " 9   precio          4399 non-null   float64       \n",
      " 10  mts_const       1487 non-null   float64       \n",
      " 11  direccion       23 non-null     object        \n",
      " 12  bathrooms       2488 non-null   object        \n",
      " 13  recamaras       2770 non-null   object        \n",
      " 14  colonia         1254 non-null   object        \n",
      " 15  bedrooms        1501 non-null   object        \n",
      " 16  descripcion     2532 non-null   object        \n",
      " 17  cochera         2532 non-null   float64       \n",
      " 18  alberca         2532 non-null   float64       \n",
      " 19  vigilancia      2532 non-null   float64       \n",
      " 20  paddle          2532 non-null   float64       \n",
      " 21  casa_club       2532 non-null   float64       \n",
      " 22  privada         2532 non-null   float64       \n",
      " 23  size            1786 non-null   float64       \n",
      " 24  superficie      984 non-null    object        \n",
      " 25  colloc          2561 non-null   object        \n",
      " 26  precio_m2       1487 non-null   float64       \n",
      "dtypes: datetime64[ns](1), float64(12), object(14)\n",
      "memory usage: 1.1+ MB\n"
     ]
    }
   ],
   "source": [
    "df_limpia.info()"
   ]
  }
 ],
 "metadata": {
  "kernelspec": {
   "display_name": "base",
   "language": "python",
   "name": "python3"
  },
  "language_info": {
   "codemirror_mode": {
    "name": "ipython",
    "version": 3
   },
   "file_extension": ".py",
   "mimetype": "text/x-python",
   "name": "python",
   "nbconvert_exporter": "python",
   "pygments_lexer": "ipython3",
   "version": "3.10.12"
  }
 },
 "nbformat": 4,
 "nbformat_minor": 2
}
