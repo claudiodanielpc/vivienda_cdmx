{
 "cells": [
  {
   "cell_type": "code",
   "execution_count": 102,
   "id": "cf30da9b",
   "metadata": {
    "vscode": {
     "languageId": "r"
    }
   },
   "outputs": [],
   "source": [
    "##Datos vivienda\n",
    "\n",
    "#rm(list=ls())\n",
    "\n",
    "# Librerías ====\n",
    "if(!require('pacman')) install.packages('pacman')\n",
    "pacman::p_load(tidyverse, showtext, srvyr, gt)\n",
    "font_add_google(\"Poppins\", \"pop\")\n",
    "showtext_auto()"
   ]
  },
  {
   "cell_type": "code",
   "execution_count": 103,
   "id": "418aaba9",
   "metadata": {
    "vscode": {
     "languageId": "r"
    }
   },
   "outputs": [],
   "source": [
    "##Crear folders de almacenamiento\n",
    "dir.create(\"vivienda/microdatos\", showWarnings = F)"
   ]
  },
  {
   "cell_type": "code",
   "execution_count": 104,
   "id": "06679f23",
   "metadata": {
    "vscode": {
     "languageId": "r"
    }
   },
   "outputs": [],
   "source": [
    "# Función para descargar y descomprimir un archivo con timeout\n",
    "download_and_unzip <- function(url, destination=\"vivienda/microdatos\") {\n",
    "  tryCatch({\n",
    "    # Descargar el archivo con timeout\n",
    "    download.file(url, destfile = paste0(destination, \"/\", basename(url)), mode = \"wb\", timeout = 10000)\n",
    "\n",
    "    # Descomprimir el archivo\n",
    "    unzip(paste0(destination, \"/\", basename(url)), exdir = destination)\n",
    "\n",
    "    # Eliminar el archivo comprimido después de descomprimirlo\n",
    "    unlink(paste0(destination, \"/\", basename(url)))\n",
    "\n",
    "    message(paste(\"Descarga y descompresión exitosas para\", basename(url)))\n",
    "  }, error = function(e) {\n",
    "    warning(paste(\"Error al descargar o descomprimir\", basename(url), \":\", conditionMessage(e)))\n",
    "  })\n",
    "}"
   ]
  },
  {
   "cell_type": "code",
   "execution_count": 105,
   "id": "0e0f8264",
   "metadata": {
    "vscode": {
     "languageId": "r"
    }
   },
   "outputs": [
    {
     "name": "stderr",
     "output_type": "stream",
     "text": [
      "Warning message in download.file(url, destfile = paste0(destination, \"/\", basename(url)), :\n",
      "\"downloaded length 5029360 != reported length 13171058\"\n",
      "Warning message in download.file(url, destfile = paste0(destination, \"/\", basename(url)), :\n",
      "\"URL 'https://www.inegi.org.mx/contenidos/programas/enigh/nc/2024/microdatos/enigh2024_ns_concentradohogar_csv.zip': Timeout of 60 seconds was reached\"\n",
      "Warning message in value[[3L]](cond):\n",
      "\"Error al descargar o descomprimir enigh2024_ns_concentradohogar_csv.zip : download from 'https://www.inegi.org.mx/contenidos/programas/enigh/nc/2024/microdatos/enigh2024_ns_concentradohogar_csv.zip' failed\"\n",
      "Warning message in download.file(url, destfile = paste0(destination, \"/\", basename(url)), :\n",
      "\"URL 'https://www.inegi.org.mx/contenidos/programas/enigh/nc/2024/microdatos/enigh2024_ns_viviendas_csv.zip': Timeout of 60 seconds was reached\"\n",
      "Warning message in value[[3L]](cond):\n",
      "\"Error al descargar o descomprimir enigh2024_ns_viviendas_csv.zip : no fue posible abrir la URL 'https://www.inegi.org.mx/contenidos/programas/enigh/nc/2024/microdatos/enigh2024_ns_viviendas_csv.zip'\"\n"
     ]
    }
   ],
   "source": [
    "download_and_unzip(\"https://www.inegi.org.mx/contenidos/programas/enigh/nc/2024/microdatos/enigh2024_ns_concentradohogar_csv.zip\")\n",
    "download_and_unzip(\"https://www.inegi.org.mx/contenidos/programas/enigh/nc/2024/microdatos/enigh2024_ns_viviendas_csv.zip\")"
   ]
  },
  {
   "cell_type": "code",
   "execution_count": 111,
   "id": "52ef3def",
   "metadata": {
    "vscode": {
     "languageId": "r"
    }
   },
   "outputs": [
    {
     "name": "stderr",
     "output_type": "stream",
     "text": [
      "Warning message:\n",
      "\"\u001b[1m\u001b[22mOne or more parsing issues, call `problems()` on your data frame for details,\n",
      "e.g.:\n",
      "  dat <- vroom(...)\n",
      "  problems(dat)\"\n"
     ]
    }
   ],
   "source": [
    "viviendas <- read_csv(\"vivienda/microdatos/viviendas.csv\",show_col_types=FALSE)%>%\n",
    "\n",
    "mutate(cve_ent = case_when(\n",
    "      nchar(folioviv) == 9  ~ paste0(\"0\", substr(folioviv, 1, 1)),\n",
    "      nchar(folioviv) == 10 ~ substr(folioviv, 1, 2)\n",
    "    )) \n",
    "    \n",
    "    \n",
    "vivi_tenencia<-viviendas%>%\n",
    "    # Filtrar si entidad es 9\n",
    "  filter(cve_ent == \"09\")%>%\n",
    "  mutate(tenencia2=case_when(\n",
    "    tenencia==1 ~ \"Renta\",\n",
    "    tenencia %in% c(3,4) ~ \"Propia\",\n",
    "    TRUE ~ \"Otro tipo\"))%>%\n",
    "  select(folioviv,tenencia,tenencia2,pago_viv)"
   ]
  },
  {
   "cell_type": "code",
   "execution_count": 127,
   "id": "e3fc78a4",
   "metadata": {
    "vscode": {
     "languageId": "r"
    }
   },
   "outputs": [],
   "source": [
    "tothogares<-read_csv(\"vivienda/microdatos/concentradohogar.csv\",show_col_types=FALSE)%>%\n",
    "  mutate(cve_ent = case_when(\n",
    "      nchar(folioviv) == 9  ~ paste0(\"0\", substr(folioviv, 1, 1)),\n",
    "      nchar(folioviv) == 10 ~ substr(folioviv, 1, 2)\n",
    "    )) \n",
    " \n",
    " \n",
    " hog_pagando<-tothogares%>%\n",
    "    # Filtrar si entidad es 9\n",
    "  filter(cve_ent == \"09\")%>%\n",
    "  #Crear deciles\n",
    "  mutate(quintil = ntile(ing_cor, 5))%>%\n",
    "  #Pegar con viviendas\n",
    "  left_join(vivi_tenencia, by = \"folioviv\")\n",
    "\n",
    "\n",
    "hogtenencia<-tothogares%>%\n",
    "    # Filtrar si entidad es 9\n",
    "  filter(cve_ent == \"09\")%>%\n",
    "  #Crear grupos de edad\n",
    "      mutate(grupo_edad_jefe = case_when(\n",
    "      edad_jefe < 30              ~ \"15-29\",\n",
    "      edad_jefe >= 30 & edad_jefe <= 44 ~ \"30-44\",\n",
    "      edad_jefe >= 45 & edad_jefe <= 59 ~ \"45-59\",\n",
    "      edad_jefe >= 60 & edad_jefe <= 64 ~ \"60-64\",\n",
    "      edad_jefe >= 65              ~ \"65+\",\n",
    "      TRUE                         ~ NA_character_\n",
    "    ))%>%\n",
    "    left_join(vivi_tenencia,by=\"folioviv\")\n",
    "  "
   ]
  },
  {
   "cell_type": "code",
   "execution_count": 128,
   "id": "7372def3",
   "metadata": {
    "vscode": {
     "languageId": "r"
    }
   },
   "outputs": [],
   "source": [
    "options(survey.lonely.psu = \"adjust\")  # evita CV inflados por PSU solitaria\n",
    "dm1<-hog_pagando%>%\n",
    "as_survey_design(ids = upm, \n",
    "weights = factor,strata=est_dis,\n",
    " nest = TRUE)\n",
    "\n",
    " dm2<-hogtenencia%>%\n",
    "as_survey_design(ids = upm, \n",
    "weights = factor,strata=est_dis,\n",
    " nest = TRUE)"
   ]
  },
  {
   "cell_type": "code",
   "execution_count": 129,
   "id": "b1811750",
   "metadata": {
    "vscode": {
     "languageId": "r"
    }
   },
   "outputs": [
    {
     "data": {
      "text/html": [
       "<table class=\"dataframe\">\n",
       "<caption>A tibble: 5 × 5</caption>\n",
       "<thead>\n",
       "\t<tr><th scope=col>quintil</th><th scope=col>ing_mensual_prom</th><th scope=col>ing_mensual_prom_cv</th><th scope=col>pct_pago_viv</th><th scope=col>pct_pago_viv_cv</th></tr>\n",
       "\t<tr><th scope=col>&lt;int&gt;</th><th scope=col>&lt;dbl&gt;</th><th scope=col>&lt;dbl&gt;</th><th scope=col>&lt;dbl&gt;</th><th scope=col>&lt;dbl&gt;</th></tr>\n",
       "</thead>\n",
       "<tbody>\n",
       "\t<tr><td>1</td><td>10016.33</td><td>0.16636913</td><td>21.19141</td><td>0.1590014</td></tr>\n",
       "\t<tr><td>2</td><td>17715.43</td><td>0.03702454</td><td>15.33597</td><td>0.2096834</td></tr>\n",
       "\t<tr><td>3</td><td>26386.91</td><td>0.01782906</td><td>14.14130</td><td>0.1556369</td></tr>\n",
       "\t<tr><td>4</td><td>38849.24</td><td>0.03481490</td><td>12.99968</td><td>0.1726961</td></tr>\n",
       "\t<tr><td>5</td><td>96697.09</td><td>0.10571964</td><td>15.65199</td><td>0.1410050</td></tr>\n",
       "</tbody>\n",
       "</table>\n"
      ],
      "text/latex": [
       "A tibble: 5 × 5\n",
       "\\begin{tabular}{lllll}\n",
       " quintil & ing\\_mensual\\_prom & ing\\_mensual\\_prom\\_cv & pct\\_pago\\_viv & pct\\_pago\\_viv\\_cv\\\\\n",
       " <int> & <dbl> & <dbl> & <dbl> & <dbl>\\\\\n",
       "\\hline\n",
       "\t 1 & 10016.33 & 0.16636913 & 21.19141 & 0.1590014\\\\\n",
       "\t 2 & 17715.43 & 0.03702454 & 15.33597 & 0.2096834\\\\\n",
       "\t 3 & 26386.91 & 0.01782906 & 14.14130 & 0.1556369\\\\\n",
       "\t 4 & 38849.24 & 0.03481490 & 12.99968 & 0.1726961\\\\\n",
       "\t 5 & 96697.09 & 0.10571964 & 15.65199 & 0.1410050\\\\\n",
       "\\end{tabular}\n"
      ],
      "text/markdown": [
       "\n",
       "A tibble: 5 × 5\n",
       "\n",
       "| quintil &lt;int&gt; | ing_mensual_prom &lt;dbl&gt; | ing_mensual_prom_cv &lt;dbl&gt; | pct_pago_viv &lt;dbl&gt; | pct_pago_viv_cv &lt;dbl&gt; |\n",
       "|---|---|---|---|---|\n",
       "| 1 | 10016.33 | 0.16636913 | 21.19141 | 0.1590014 |\n",
       "| 2 | 17715.43 | 0.03702454 | 15.33597 | 0.2096834 |\n",
       "| 3 | 26386.91 | 0.01782906 | 14.14130 | 0.1556369 |\n",
       "| 4 | 38849.24 | 0.03481490 | 12.99968 | 0.1726961 |\n",
       "| 5 | 96697.09 | 0.10571964 | 15.65199 | 0.1410050 |\n",
       "\n"
      ],
      "text/plain": [
       "  quintil ing_mensual_prom ing_mensual_prom_cv pct_pago_viv pct_pago_viv_cv\n",
       "1 1       10016.33         0.16636913          21.19141     0.1590014      \n",
       "2 2       17715.43         0.03702454          15.33597     0.2096834      \n",
       "3 3       26386.91         0.01782906          14.14130     0.1556369      \n",
       "4 4       38849.24         0.03481490          12.99968     0.1726961      \n",
       "5 5       96697.09         0.10571964          15.65199     0.1410050      "
      ]
     },
     "metadata": {},
     "output_type": "display_data"
    }
   ],
   "source": [
    "##Calcular cuánto representa el pago de la vivienda como porcentaje del ingreso corriente mensual del hogar, por decil de ingreso\n",
    "pago_vivienda<-dm1%>%\n",
    "  filter(tenencia %in% c(3))%>%\n",
    "  #Calcular ingreso corriente mensual\n",
    "    mutate(ing_mensual=ing_cor/3)%>%\n",
    "     group_by(quintil) %>%\n",
    "  summarise(\n",
    "    ing_mensual_prom = survey_mean(ing_mensual, na.rm = TRUE, vartype = \"cv\"),\n",
    "    pct_pago_viv = survey_ratio(pago_viv, ing_mensual, na.rm = TRUE, vartype = \"cv\")\n",
    "  ) %>%\n",
    "  mutate(\n",
    "    pct_pago_viv = pct_pago_viv * 100\n",
    "  )\n",
    "pago_vivienda"
   ]
  },
  {
   "cell_type": "code",
   "execution_count": 130,
   "id": "bf8c8e98",
   "metadata": {
    "vscode": {
     "languageId": "r"
    }
   },
   "outputs": [
    {
     "name": "stderr",
     "output_type": "stream",
     "text": [
      "Warning message:\n",
      "\"\u001b[1m\u001b[22mSince gt v0.3.0, `columns = vars(...)` has been deprecated.\n",
      "\u001b[36m•\u001b[39m Please use `columns = c(...)` instead.\"\n",
      "Warning message:\n",
      "\"\u001b[1m\u001b[22mSince gt v0.3.0, `columns = vars(...)` has been deprecated.\n",
      "\u001b[36m•\u001b[39m Please use `columns = c(...)` instead.\"\n",
      "Warning message:\n",
      "\"\u001b[1m\u001b[22mSince gt v0.3.0, `columns = vars(...)` has been deprecated.\n",
      "\u001b[36m•\u001b[39m Please use `columns = c(...)` instead.\"\n",
      "Warning message:\n",
      "\"\u001b[1m\u001b[22mSince gt v0.3.0, `columns = vars(...)` has been deprecated.\n",
      "\u001b[36m•\u001b[39m Please use `columns = c(...)` instead.\"\n",
      "Warning message:\n",
      "\"\u001b[1m\u001b[22mSince gt v0.3.0, `columns = vars(...)` has been deprecated.\n",
      "\u001b[36m•\u001b[39m Please use `columns = c(...)` instead.\"\n",
      "Warning message:\n",
      "\"\u001b[1m\u001b[22mSince gt v0.3.0, `columns = vars(...)` has been deprecated.\n",
      "\u001b[36m•\u001b[39m Please use `columns = c(...)` instead.\"\n"
     ]
    }
   ],
   "source": [
    "##Crear tabla de gt\n",
    "pago_vivienda%>%\n",
    "  select(-c(ing_mensual_prom_cv,pct_pago_viv_cv))%>%\n",
    "  gt()%>%\n",
    "  fmt_percent(\n",
    "    columns = vars(pct_pago_viv),\n",
    "    decimals = 1\n",
    "  )%>%\n",
    "  fmt_number(\n",
    "    columns = vars(ing_mensual_prom),\n",
    "    decimals = 0,\n",
    "    use_seps = TRUE\n",
    "  )%>%\n",
    "  fmt_number(columns = vars(pct_pago_viv), decimals = 1) %>%\n",
    "  cols_label(\n",
    "    quintil = \"Quintil de ingreso\",\n",
    "    ing_mensual_prom = \"Ingreso corriente mensual promedio (pesos)\",\n",
    "    pct_pago_viv = \"Porcentaje del ingreso corriente mensual destinado al pago de la vivienda\"\n",
    "  )%>%\n",
    "  tab_header(\n",
    "    title = md(\"**Porcentaje del ingreso corriente mensual destinado al pago de la vivienda de los hogares por quintil de ingreso en la Ciudad de México, 2024**\"),\n",
    "  )%>%\n",
    "   tab_source_note(\n",
    "    source_note = \"Nota: Se consideran únicamente aquellos hogares que habitan en viviendas propias en proceso de pago.\"\n",
    "  )%>%\n",
    "  tab_source_note(\n",
    "    source_note = \"Fuente: Elaboración propia con base en INEGI. Encuesta Nacional de Ingresos y Gastos de los Hogares (ENIGH) 2024.\"\n",
    "  )%>%\n",
    "    opt_table_font(font = list(google_font(\"Poppins\"), default_fonts())) %>%\n",
    "tab_options(\n",
    "    heading.align = \"center\",\n",
    "    table.align   = \"center\",\n",
    "    table.font.size = px(14),\n",
    "    table.background.color = \"white\",\n",
    "    table.border.top.color = \"white\",\n",
    "    table.border.bottom.color = \"white\",\n",
    "    data_row.padding = px(3),\n",
    "    column_labels.font.weight = \"bold\",\n",
    "    column_labels.border.top.color = \"black\",\n",
    "    column_labels.border.bottom.color = \"black\",\n",
    "    column_labels.border.bottom.width = px(2),\n",
    "    table_body.hlines.color = \"lightgrey\",\n",
    "    table_body.hlines.width = px(0.5),\n",
    "    table_body.border.bottom.color = \"black\",\n",
    "    table_body.border.bottom.width = px(2),\n",
    "    source_notes.font.size = px(10),\n",
    "    source_notes.padding = px(1)\n",
    "  ) %>%\n",
    "  # centrar celdas, labels y spanners\n",
    "  cols_align(align = \"center\", columns = everything()) %>%\n",
    "  tab_style(\n",
    "    style = cell_text(align = \"center\"),\n",
    "    locations = list(\n",
    "      cells_column_labels(columns = everything()),\n",
    "      cells_column_spanners(spanners = everything())\n",
    "    )\n",
    "  )%>%\n",
    "  gtsave(\"vivienda/pago_vivienda.png\", expand=10)"
   ]
  },
  {
   "cell_type": "code",
   "execution_count": 132,
   "id": "9c20ed78",
   "metadata": {
    "vscode": {
     "languageId": "r"
    }
   },
   "outputs": [
    {
     "data": {
      "text/html": [
       "<table class=\"dataframe\">\n",
       "<caption>A grouped_df: 15 × 4</caption>\n",
       "<thead>\n",
       "\t<tr><th scope=col>grupo_edad_jefe</th><th scope=col>tenencia2</th><th scope=col>pct_hog</th><th scope=col>pct_hog_cv</th></tr>\n",
       "\t<tr><th scope=col>&lt;chr&gt;</th><th scope=col>&lt;chr&gt;</th><th scope=col>&lt;dbl&gt;</th><th scope=col>&lt;dbl&gt;</th></tr>\n",
       "</thead>\n",
       "<tbody>\n",
       "\t<tr><td>15-29</td><td>Otro tipo</td><td>23.007186</td><td>0.20212605</td></tr>\n",
       "\t<tr><td>15-29</td><td>Propia   </td><td>21.515700</td><td>0.20864051</td></tr>\n",
       "\t<tr><td>15-29</td><td>Renta    </td><td>55.477114</td><td>0.10490034</td></tr>\n",
       "\t<tr><td>30-44</td><td>Otro tipo</td><td>18.922266</td><td>0.10236958</td></tr>\n",
       "\t<tr><td>30-44</td><td>Propia   </td><td>38.098223</td><td>0.06290618</td></tr>\n",
       "\t<tr><td>30-44</td><td>Renta    </td><td>42.979511</td><td>0.05434424</td></tr>\n",
       "\t<tr><td>45-59</td><td>Otro tipo</td><td>22.507813</td><td>0.07607725</td></tr>\n",
       "\t<tr><td>45-59</td><td>Propia   </td><td>57.494300</td><td>0.03689650</td></tr>\n",
       "\t<tr><td>45-59</td><td>Renta    </td><td>19.997887</td><td>0.08434929</td></tr>\n",
       "\t<tr><td>60-64</td><td>Otro tipo</td><td>16.509114</td><td>0.14958058</td></tr>\n",
       "\t<tr><td>60-64</td><td>Propia   </td><td>71.106099</td><td>0.04302101</td></tr>\n",
       "\t<tr><td>60-64</td><td>Renta    </td><td>12.384788</td><td>0.18172085</td></tr>\n",
       "\t<tr><td>65+  </td><td>Otro tipo</td><td>14.941992</td><td>0.11632448</td></tr>\n",
       "\t<tr><td>65+  </td><td>Propia   </td><td>78.584222</td><td>0.02550893</td></tr>\n",
       "\t<tr><td>65+  </td><td>Renta    </td><td> 6.473786</td><td>0.16018528</td></tr>\n",
       "</tbody>\n",
       "</table>\n"
      ],
      "text/latex": [
       "A grouped\\_df: 15 × 4\n",
       "\\begin{tabular}{llll}\n",
       " grupo\\_edad\\_jefe & tenencia2 & pct\\_hog & pct\\_hog\\_cv\\\\\n",
       " <chr> & <chr> & <dbl> & <dbl>\\\\\n",
       "\\hline\n",
       "\t 15-29 & Otro tipo & 23.007186 & 0.20212605\\\\\n",
       "\t 15-29 & Propia    & 21.515700 & 0.20864051\\\\\n",
       "\t 15-29 & Renta     & 55.477114 & 0.10490034\\\\\n",
       "\t 30-44 & Otro tipo & 18.922266 & 0.10236958\\\\\n",
       "\t 30-44 & Propia    & 38.098223 & 0.06290618\\\\\n",
       "\t 30-44 & Renta     & 42.979511 & 0.05434424\\\\\n",
       "\t 45-59 & Otro tipo & 22.507813 & 0.07607725\\\\\n",
       "\t 45-59 & Propia    & 57.494300 & 0.03689650\\\\\n",
       "\t 45-59 & Renta     & 19.997887 & 0.08434929\\\\\n",
       "\t 60-64 & Otro tipo & 16.509114 & 0.14958058\\\\\n",
       "\t 60-64 & Propia    & 71.106099 & 0.04302101\\\\\n",
       "\t 60-64 & Renta     & 12.384788 & 0.18172085\\\\\n",
       "\t 65+   & Otro tipo & 14.941992 & 0.11632448\\\\\n",
       "\t 65+   & Propia    & 78.584222 & 0.02550893\\\\\n",
       "\t 65+   & Renta     &  6.473786 & 0.16018528\\\\\n",
       "\\end{tabular}\n"
      ],
      "text/markdown": [
       "\n",
       "A grouped_df: 15 × 4\n",
       "\n",
       "| grupo_edad_jefe &lt;chr&gt; | tenencia2 &lt;chr&gt; | pct_hog &lt;dbl&gt; | pct_hog_cv &lt;dbl&gt; |\n",
       "|---|---|---|---|\n",
       "| 15-29 | Otro tipo | 23.007186 | 0.20212605 |\n",
       "| 15-29 | Propia    | 21.515700 | 0.20864051 |\n",
       "| 15-29 | Renta     | 55.477114 | 0.10490034 |\n",
       "| 30-44 | Otro tipo | 18.922266 | 0.10236958 |\n",
       "| 30-44 | Propia    | 38.098223 | 0.06290618 |\n",
       "| 30-44 | Renta     | 42.979511 | 0.05434424 |\n",
       "| 45-59 | Otro tipo | 22.507813 | 0.07607725 |\n",
       "| 45-59 | Propia    | 57.494300 | 0.03689650 |\n",
       "| 45-59 | Renta     | 19.997887 | 0.08434929 |\n",
       "| 60-64 | Otro tipo | 16.509114 | 0.14958058 |\n",
       "| 60-64 | Propia    | 71.106099 | 0.04302101 |\n",
       "| 60-64 | Renta     | 12.384788 | 0.18172085 |\n",
       "| 65+   | Otro tipo | 14.941992 | 0.11632448 |\n",
       "| 65+   | Propia    | 78.584222 | 0.02550893 |\n",
       "| 65+   | Renta     |  6.473786 | 0.16018528 |\n",
       "\n"
      ],
      "text/plain": [
       "   grupo_edad_jefe tenencia2 pct_hog   pct_hog_cv\n",
       "1  15-29           Otro tipo 23.007186 0.20212605\n",
       "2  15-29           Propia    21.515700 0.20864051\n",
       "3  15-29           Renta     55.477114 0.10490034\n",
       "4  30-44           Otro tipo 18.922266 0.10236958\n",
       "5  30-44           Propia    38.098223 0.06290618\n",
       "6  30-44           Renta     42.979511 0.05434424\n",
       "7  45-59           Otro tipo 22.507813 0.07607725\n",
       "8  45-59           Propia    57.494300 0.03689650\n",
       "9  45-59           Renta     19.997887 0.08434929\n",
       "10 60-64           Otro tipo 16.509114 0.14958058\n",
       "11 60-64           Propia    71.106099 0.04302101\n",
       "12 60-64           Renta     12.384788 0.18172085\n",
       "13 65+             Otro tipo 14.941992 0.11632448\n",
       "14 65+             Propia    78.584222 0.02550893\n",
       "15 65+             Renta      6.473786 0.16018528"
      ]
     },
     "metadata": {},
     "output_type": "display_data"
    }
   ],
   "source": [
    "gpo_edad_tenencia<-dm2%>%\n",
    "group_by(grupo_edad_jefe,tenencia2)%>%\n",
    "summarise(pct_hog=survey_prop(vartype=\"cv\"))%>%\n",
    "mutate(pct_hog=pct_hog*100)\n",
    "gpo_edad_tenencia"
   ]
  },
  {
   "cell_type": "code",
   "execution_count": null,
   "id": "d4968ff4",
   "metadata": {
    "vscode": {
     "languageId": "r"
    }
   },
   "outputs": [
    {
     "data": {
      "image/png": "[encoded data removed]",
      "text/plain": [
       "plot without title"
      ]
     },
     "metadata": {
      "image/png": {
       "height": 420,
       "width": 420
      }
     },
     "output_type": "display_data"
    }
   ],
   "source": [
    "gpo_edad_tenencia%>%ggplot( aes(\n",
    "x = factor(\n",
    "    grupo_edad_jefe,\n",
    "    levels = c(\"15-29\", \"30-44\", \"45-59\", \"60-64\", \"65+\")\n",
    "  ),\n",
    "  y = pct_hog,\n",
    "  fill = factor(\n",
    "    tenencia2,\n",
    "    levels = c(\"Propia\", \"Renta\", \"Otro tipo\")\n",
    "  )\n",
    "))  +\n",
    "  geom_col(position = position_dodge(width = 0.8), width = 0.7) +\n",
    "  geom_text(\n",
    "    aes(label = round(pct_hog, 1)),\n",
    "    position = position_dodge(width = 0.8),\n",
    "    vjust = -0.5, size = 6, colour = \"black\"\n",
    "  ) +\n",
    "  scale_fill_manual(values = c(\"#e40001\", \"#737373\", \"#feb24c\")) +\n",
    "  labs(\n",
    "    x = \"Grupo de edad del jefe/a de hogar\",\n",
    "    y = \"Porcentaje de hogares\",\n",
    "    fill = \"Tenencia de vivienda\",\n",
    "    title = \"Distribución de la tenencia de vivienda por grupo de edad de la persona jefa del hogar, 2024\",\n",
    "        caption = \"Nota: \n",
    "1. Para cada grupo de edad, la suma de las barras es igual a 100.\n",
    "2. 'Propia' considera propia y propia se está pagando.\n",
    "3. En 'Otros' se incluyen viviendas prestadas, intestadas o en otra situación.\n",
    "Fuente: Elaboración propia con datos de INEGI. Encuesta Nacional de Ingresos y Gastos de los Hogares, 2024.\")+    \n",
    "    theme(\n",
    "plot.title = element_text(hjust = 0, size=30,face=\"bold\"),\n",
    "  ) +\n",
    "  theme_minimal(base_family = \"Poppins\") +\n",
    "    theme(\n",
    "            plot.title = element_text(hjust = 0, size=30,face=\"bold\"),\n",
    "            plot.subtitle = element_text(hjust = 0, size=20, face=\"italic\"),\n",
    "            plot.caption = element_text(hjust = 0,size=15),\n",
    "            axis.text.x = element_text(angle = 0, vjust = 0.5,size=15),\n",
    "            text=element_text(\"pop\",size=20))\n",
    "\n",
    "#Salvar gráfica\n",
    "ggsave(\"vivienda/dist_tenencia_edad_jefe.png\",width=20,height=10, dpi=100,bg=\"white\")"
   ]
  }
 ],
 "metadata": {
  "kernelspec": {
   "display_name": "R",
   "language": "R",
   "name": "ir"
  },
  "language_info": {
   "codemirror_mode": "r",
   "file_extension": ".r",
   "mimetype": "text/x-r-source",
   "name": "R",
   "pygments_lexer": "r",
   "version": "4.4.1"
  }
 },
 "nbformat": 4,
 "nbformat_minor": 5
}
